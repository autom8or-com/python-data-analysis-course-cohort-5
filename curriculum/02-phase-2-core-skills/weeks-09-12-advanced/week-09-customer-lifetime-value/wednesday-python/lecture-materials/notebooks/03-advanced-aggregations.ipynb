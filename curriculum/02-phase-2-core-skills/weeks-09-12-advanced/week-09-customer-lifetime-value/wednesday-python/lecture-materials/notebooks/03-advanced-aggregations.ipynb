{
 "cells": [
  {
   "cell_type": "markdown",
   "metadata": {},
   "source": [
    "# Week 9: Advanced Aggregations for Business Metrics\n",
    "\n",
    "## Learning Objectives\n",
    "By the end of this notebook, you will be able to:\n",
    "1. Create custom aggregation functions for business metrics\n",
    "2. Use named aggregations with `.agg()` for clean output\n",
    "3. Combine multiple operations on the same column\n",
    "4. Calculate complex business metrics (revenue growth, customer retention)\n",
    "5. Apply statistical aggregations (percentiles, standard deviation, variance)\n",
    "6. Use conditional aggregations with `.filter()`\n",
    "\n",
    "## Business Context\n",
    "We'll build comprehensive customer analytics including:\n",
    "- Customer lifetime value calculations\n",
    "- Purchase frequency and recency analysis\n",
    "- Revenue contribution metrics\n",
    "- Customer segment performance\n",
    "\n",
    "**Duration:** 45 minutes"
   ]
  },
  {
   "cell_type": "code",
   "execution_count": null,
   "metadata": {},
   "outputs": [],
   "source": [
    "# Import libraries\n",
    "import pandas as pd\n",
    "import numpy as np\n",
    "import matplotlib.pyplot as plt\n",
    "import seaborn as sns\n",
    "from datetime import datetime\n",
    "\n",
    "pd.set_option('display.max_columns', None)\n",
    "pd.set_option('display.precision', 2)\n",
    "sns.set_style('whitegrid')\n",
    "plt.rcParams['figure.figsize'] = (12, 6)"
   ]
  },
  {
   "cell_type": "code",
   "execution_count": null,
   "metadata": {},
   "outputs": [],
   "source": [
    "# Load and prepare data\n",
    "customers = pd.read_csv('../datasets/customers.csv')\n",
    "orders = pd.read_csv('../datasets/orders.csv')\n",
    "order_items = pd.read_csv('../datasets/order_items.csv')\n",
    "products = pd.read_csv('../datasets/products.csv')\n",
    "\n",
    "# Merge datasets\n",
    "data = (order_items\n",
    "        .merge(orders, on='order_id')\n",
    "        .merge(customers, on='customer_id')\n",
    "        .merge(products, on='product_id'))\n",
    "\n",
    "data['total_price'] = data['price'] + data['freight_value']\n",
    "data['order_purchase_timestamp'] = pd.to_datetime(data['order_purchase_timestamp'])\n",
    "\n",
    "print(\"Data ready!\")"
   ]
  },
  {
   "cell_type": "markdown",
   "metadata": {},
   "source": [
    "## Part 1: Custom Aggregation Functions"
   ]
  },
  {
   "cell_type": "code",
   "execution_count": null,
   "metadata": {},
   "outputs": [],
   "source": [
    "# Define custom functions\n",
    "def revenue_range(x):\n",
    "    \"\"\"Calculate range between max and min\"\"\"\n",
    "    return x.max() - x.min()\n",
    "\n",
    "def coefficient_of_variation(x):\n",
    "    \"\"\"Calculate CV (std/mean) - measures relative variability\"\"\"\n",
    "    if x.mean() == 0:\n",
    "        return 0\n",
    "    return (x.std() / x.mean()) * 100\n",
    "\n",
    "def percentile_90(x):\n",
    "    \"\"\"Calculate 90th percentile\"\"\"\n",
    "    return x.quantile(0.90)\n",
    "\n",
    "# Apply custom aggregations\n",
    "customer_metrics = data.groupby('customer_id').agg(\n",
    "    num_orders=('order_id', 'nunique'),\n",
    "    total_revenue=('total_price', 'sum'),\n",
    "    avg_revenue=('total_price', 'mean'),\n",
    "    revenue_range=('total_price', revenue_range),\n",
    "    revenue_cv=('total_price', coefficient_of_variation),\n",
    "    revenue_90th=('total_price', percentile_90)\n",
    ").round(2)\n",
    "\n",
    "print(\"=== Customer Metrics with Custom Aggregations ===\")\n",
    "print(customer_metrics.head(10))"
   ]
  },
  {
   "cell_type": "markdown",
   "metadata": {},
   "source": [
    "## Part 2: Named Aggregations for Clean Code"
   ]
  },
  {
   "cell_type": "code",
   "execution_count": null,
   "metadata": {},
   "outputs": [],
   "source": [
    "# Comprehensive customer analysis with named aggregations\n",
    "customer_analysis = data.groupby('customer_id').agg(\n",
    "    # Order metrics\n",
    "    total_orders=('order_id', 'nunique'),\n",
    "    total_items=('order_item_id', 'count'),\n",
    "    \n",
    "    # Revenue metrics\n",
    "    lifetime_value=('total_price', 'sum'),\n",
    "    avg_order_value=('total_price', 'mean'),\n",
    "    min_order=('total_price', 'min'),\n",
    "    max_order=('total_price', 'max'),\n",
    "    \n",
    "    # Statistical metrics\n",
    "    revenue_std=('total_price', 'std'),\n",
    "    revenue_median=('total_price', 'median'),\n",
    "    \n",
    "    # Category diversity\n",
    "    unique_categories=('product_category_name', 'nunique'),\n",
    "    \n",
    "    # Time metrics\n",
    "    first_purchase=('order_purchase_timestamp', 'min'),\n",
    "    last_purchase=('order_purchase_timestamp', 'max')\n",
    ").round(2)\n",
    "\n",
    "# Calculate derived metrics\n",
    "customer_analysis['items_per_order'] = (customer_analysis['total_items'] / \n",
    "                                         customer_analysis['total_orders']).round(2)\n",
    "\n",
    "print(\"=== Comprehensive Customer Analysis ===\")\n",
    "print(customer_analysis.head(10))"
   ]
  },
  {
   "cell_type": "markdown",
   "metadata": {},
   "source": [
    "## Part 3: Recency, Frequency, Monetary (RFM) Analysis"
   ]
  },
  {
   "cell_type": "code",
   "execution_count": null,
   "metadata": {},
   "outputs": [],
   "source": [
    "# Define analysis date (use max date in dataset + 1 day)\n",
    "analysis_date = data['order_purchase_timestamp'].max() + pd.Timedelta(days=1)\n",
    "\n",
    "# Calculate RFM metrics\n",
    "rfm = data.groupby('customer_id').agg(\n",
    "    recency=('order_purchase_timestamp', lambda x: (analysis_date - x.max()).days),\n",
    "    frequency=('order_id', 'nunique'),\n",
    "    monetary=('total_price', 'sum')\n",
    ").round(2)\n",
    "\n",
    "print(\"=== RFM Analysis ===\")\n",
    "print(rfm.head(10))\n",
    "print(\"\\n=== RFM Statistics ===\")\n",
    "print(rfm.describe())"
   ]
  },
  {
   "cell_type": "code",
   "execution_count": null,
   "metadata": {},
   "outputs": [],
   "source": [
    "# Create RFM scores using quartiles\n",
    "rfm['r_score'] = pd.qcut(rfm['recency'], 4, labels=[4, 3, 2, 1])  # Lower recency is better\n",
    "rfm['f_score'] = pd.qcut(rfm['frequency'].rank(method='first'), 4, labels=[1, 2, 3, 4])\n",
    "rfm['m_score'] = pd.qcut(rfm['monetary'], 4, labels=[1, 2, 3, 4])\n",
    "\n",
    "# Create RFM segment\n",
    "rfm['rfm_score'] = rfm['r_score'].astype(str) + rfm['f_score'].astype(str) + rfm['m_score'].astype(str)\n",
    "\n",
    "print(\"=== RFM Scores ===\")\n",
    "print(rfm.head(10))"
   ]
  },
  {
   "cell_type": "code",
   "execution_count": null,
   "metadata": {},
   "outputs": [],
   "source": [
    "# Segment customers\n",
    "def segment_customer(row):\n",
    "    r, f, m = int(row['r_score']), int(row['f_score']), int(row['m_score'])\n",
    "    \n",
    "    if r >= 4 and f >= 4 and m >= 4:\n",
    "        return 'Champions'\n",
    "    elif r >= 3 and f >= 3:\n",
    "        return 'Loyal Customers'\n",
    "    elif r >= 4:\n",
    "        return 'Recent Customers'\n",
    "    elif f >= 4:\n",
    "        return 'Frequent Buyers'\n",
    "    elif m >= 4:\n",
    "        return 'Big Spenders'\n",
    "    elif r <= 2:\n",
    "        return 'At Risk'\n",
    "    else:\n",
    "        return 'Need Attention'\n",
    "\n",
    "rfm['segment'] = rfm.apply(segment_customer, axis=1)\n",
    "\n",
    "print(\"=== Customer Segmentation ===\")\n",
    "print(rfm['segment'].value_counts())\n",
    "\n",
    "# Visualize\n",
    "rfm['segment'].value_counts().plot(kind='barh', color='steelblue')\n",
    "plt.title('Customer Segments Distribution', fontsize=14, fontweight='bold')\n",
    "plt.xlabel('Number of Customers')\n",
    "plt.tight_layout()\n",
    "plt.show()"
   ]
  },
  {
   "cell_type": "markdown",
   "metadata": {},
   "source": [
    "## Part 4: Statistical Aggregations"
   ]
  },
  {
   "cell_type": "code",
   "execution_count": null,
   "metadata": {},
   "outputs": [],
   "source": [
    "# Statistical analysis by product category\n",
    "category_stats = data.groupby('product_category_name').agg(\n",
    "    count=('total_price', 'count'),\n",
    "    mean=('total_price', 'mean'),\n",
    "    median=('total_price', 'median'),\n",
    "    std=('total_price', 'std'),\n",
    "    min=('total_price', 'min'),\n",
    "    q25=('total_price', lambda x: x.quantile(0.25)),\n",
    "    q75=('total_price', lambda x: x.quantile(0.75)),\n",
    "    max=('total_price', 'max')\n",
    ").round(2)\n",
    "\n",
    "# Calculate IQR\n",
    "category_stats['iqr'] = category_stats['q75'] - category_stats['q25']\n",
    "\n",
    "print(\"=== Category Price Statistics ===\")\n",
    "print(category_stats.sort_values('mean', ascending=False).head(10))"
   ]
  },
  {
   "cell_type": "code",
   "execution_count": null,
   "metadata": {},
   "outputs": [],
   "source": [
    "# Analyze purchase patterns by state\n",
    "state_analysis = data.groupby('customer_state').agg(\n",
    "    total_orders=('order_id', 'nunique'),\n",
    "    total_customers=('customer_id', 'nunique'),\n",
    "    total_revenue=('total_price', 'sum'),\n",
    "    avg_order_value=('total_price', 'mean'),\n",
    "    revenue_std=('total_price', 'std'),\n",
    "    median_order=('total_price', 'median')\n",
    ").round(2)\n",
    "\n",
    "# Calculate orders per customer\n",
    "state_analysis['orders_per_customer'] = (state_analysis['total_orders'] / \n",
    "                                          state_analysis['total_customers']).round(2)\n",
    "\n",
    "print(\"=== State Performance Analysis ===\")\n",
    "print(state_analysis.sort_values('total_revenue', ascending=False).head(10))"
   ]
  },
  {
   "cell_type": "markdown",
   "metadata": {},
   "source": [
    "## Part 5: Conditional Aggregations with Filter"
   ]
  },
  {
   "cell_type": "code",
   "execution_count": null,
   "metadata": {},
   "outputs": [],
   "source": [
    "# Filter customers with more than 1 order\n",
    "repeat_customers = data.groupby('customer_id').filter(lambda x: x['order_id'].nunique() > 1)\n",
    "\n",
    "print(f\"Total rows in data: {len(data)}\")\n",
    "print(f\"Rows for repeat customers: {len(repeat_customers)}\")\n",
    "print(f\"Unique repeat customers: {repeat_customers['customer_id'].nunique()}\")"
   ]
  },
  {
   "cell_type": "code",
   "execution_count": null,
   "metadata": {},
   "outputs": [],
   "source": [
    "# Analyze repeat customer behavior\n",
    "repeat_analysis = repeat_customers.groupby('customer_id').agg(\n",
    "    num_orders=('order_id', 'nunique'),\n",
    "    total_spent=('total_price', 'sum'),\n",
    "    avg_order=('total_price', 'mean'),\n",
    "    days_active=('order_purchase_timestamp', lambda x: (x.max() - x.min()).days)\n",
    ").round(2)\n",
    "\n",
    "print(\"=== Repeat Customer Analysis ===\")\n",
    "print(repeat_analysis.sort_values('total_spent', ascending=False).head(10))"
   ]
  },
  {
   "cell_type": "markdown",
   "metadata": {},
   "source": [
    "## Part 6: Complex Business Metrics"
   ]
  },
  {
   "cell_type": "code",
   "execution_count": null,
   "metadata": {},
   "outputs": [],
   "source": [
    "# Calculate customer purchase velocity (orders per month)\n",
    "customer_velocity = data.groupby('customer_id').agg(\n",
    "    num_orders=('order_id', 'nunique'),\n",
    "    first_order=('order_purchase_timestamp', 'min'),\n",
    "    last_order=('order_purchase_timestamp', 'max'),\n",
    "    total_revenue=('total_price', 'sum')\n",
    ")\n",
    "\n",
    "# Calculate days active\n",
    "customer_velocity['days_active'] = (customer_velocity['last_order'] - \n",
    "                                     customer_velocity['first_order']).dt.days\n",
    "\n",
    "# Calculate monthly purchase rate (avoid division by zero)\n",
    "customer_velocity['months_active'] = (customer_velocity['days_active'] / 30).replace(0, 1)\n",
    "customer_velocity['orders_per_month'] = (customer_velocity['num_orders'] / \n",
    "                                          customer_velocity['months_active']).round(2)\n",
    "\n",
    "print(\"=== Customer Purchase Velocity ===\")\n",
    "print(customer_velocity.sort_values('orders_per_month', ascending=False).head(10))"
   ]
  },
  {
   "cell_type": "code",
   "execution_count": null,
   "metadata": {},
   "outputs": [],
   "source": [
    "# Revenue concentration analysis\n",
    "total_revenue = data['total_price'].sum()\n",
    "\n",
    "customer_revenue = data.groupby('customer_id').agg(\n",
    "    revenue=('total_price', 'sum')\n",
    ").sort_values('revenue', ascending=False)\n",
    "\n",
    "# Calculate cumulative percentage\n",
    "customer_revenue['cumulative_revenue'] = customer_revenue['revenue'].cumsum()\n",
    "customer_revenue['cumulative_pct'] = (customer_revenue['cumulative_revenue'] / total_revenue * 100).round(2)\n",
    "\n",
    "# Find top 20% customers\n",
    "top_20_pct = int(len(customer_revenue) * 0.2)\n",
    "top_20_revenue = customer_revenue.iloc[:top_20_pct]['revenue'].sum()\n",
    "top_20_contribution = (top_20_revenue / total_revenue * 100).round(2)\n",
    "\n",
    "print(f\"Top 20% of customers contribute {top_20_contribution}% of total revenue\")\n",
    "print(\"\\n=== Top 10 Revenue Contributors ===\")\n",
    "print(customer_revenue.head(10))"
   ]
  },
  {
   "cell_type": "markdown",
   "metadata": {},
   "source": [
    "## Key Takeaways\n",
    "\n",
    "### Custom Aggregations\n",
    "1. Define functions for business-specific metrics\n",
    "2. Use lambda functions for simple calculations\n",
    "3. Combine multiple aggregations with named syntax\n",
    "\n",
    "### RFM Analysis\n",
    "1. **Recency:** Days since last purchase\n",
    "2. **Frequency:** Number of purchases\n",
    "3. **Monetary:** Total spending\n",
    "4. Score and segment customers for targeted marketing\n",
    "\n",
    "### Statistical Methods\n",
    "1. Use percentiles to understand distribution\n",
    "2. Calculate variation metrics (std, CV, IQR)\n",
    "3. Identify outliers and patterns\n",
    "\n",
    "### Business Applications\n",
    "1. Customer segmentation for marketing\n",
    "2. Revenue concentration analysis\n",
    "3. Purchase velocity tracking\n",
    "4. Churn risk identification\n",
    "\n",
    "## Next Steps\n",
    "1. Complete `exercises/exercise-03-clv-calculations.ipynb`\n",
    "2. Review `resources/aggregation-functions.md`\n",
    "3. Continue to Notebook 04: Complete CLV Analysis"
   ]
  },
  {
   "cell_type": "markdown",
   "metadata": {},
   "source": [
    "---\n",
    "**PORA Academy Cohort 5 - Week 9 Wednesday Python**  \n",
    "*Customer Lifetime Value Analysis*"
   ]
  }
 ],
 "metadata": {
  "kernelspec": {
   "display_name": "Python 3",
   "language": "python",
   "name": "python3"
  },
  "language_info": {
   "codemirror_mode": {
    "name": "ipython",
    "version": 3
   },
   "file_extension": ".py",
   "mimetype": "text/x-python",
   "name": "python",
   "nbconvert_exporter": "python",
   "pygments_lexer": "ipython3",
   "version": "3.8.0"
  }
 },
 "nbformat": 4,
 "nbformat_minor": 4
}

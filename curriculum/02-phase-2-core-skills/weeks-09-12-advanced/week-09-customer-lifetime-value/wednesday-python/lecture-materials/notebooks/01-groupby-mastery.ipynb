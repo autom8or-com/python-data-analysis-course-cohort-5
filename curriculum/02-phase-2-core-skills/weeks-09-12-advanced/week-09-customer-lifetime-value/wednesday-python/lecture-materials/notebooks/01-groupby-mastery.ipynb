{
 "cells": [
  {
   "cell_type": "markdown",
   "metadata": {},
   "source": [
    "# Week 9: GroupBy Mastery for Customer Analysis\n",
    "\n",
    "## Learning Objectives\n",
    "By the end of this notebook, you will be able to:\n",
    "1. Perform single and multiple column grouping operations\n",
    "2. Apply built-in aggregation functions (sum, mean, count, nunique)\n",
    "3. Use custom aggregation functions with `.agg()`\n",
    "4. Understand and apply `.transform()` for broadcasting calculations\n",
    "5. Analyze customer purchase behavior using groupby operations\n",
    "\n",
    "## Business Context\n",
    "We're analyzing customer data from a Lagos-based e-commerce platform to understand purchasing patterns, calculate customer lifetime value, and identify high-value customer segments.\n",
    "\n",
    "**Duration:** 30 minutes"
   ]
  },
  {
   "cell_type": "markdown",
   "metadata": {},
   "source": [
    "## Setup and Data Loading"
   ]
  },
  {
   "cell_type": "code",
   "execution_count": null,
   "metadata": {},
   "outputs": [],
   "source": [
    "# Import required libraries\n",
    "import pandas as pd\n",
    "import numpy as np\n",
    "import matplotlib.pyplot as plt\n",
    "import seaborn as sns\n",
    "\n",
    "# Set display options for better readability\n",
    "pd.set_option('display.max_columns', None)\n",
    "pd.set_option('display.precision', 2)\n",
    "\n",
    "# Set visualization style\n",
    "sns.set_style('whitegrid')\n",
    "plt.rcParams['figure.figsize'] = (12, 6)"
   ]
  },
  {
   "cell_type": "code",
   "execution_count": null,
   "metadata": {},
   "outputs": [],
   "source": [
    "# Load datasets\n",
    "customers = pd.read_csv('../datasets/customers.csv')\n",
    "orders = pd.read_csv('../datasets/orders.csv')\n",
    "order_items = pd.read_csv('../datasets/order_items.csv')\n",
    "products = pd.read_csv('../datasets/products.csv')\n",
    "\n",
    "print(\"Data loaded successfully!\")\n",
    "print(f\"Customers: {len(customers)} rows\")\n",
    "print(f\"Orders: {len(orders)} rows\")\n",
    "print(f\"Order Items: {len(order_items)} rows\")\n",
    "print(f\"Products: {len(products)} rows\")"
   ]
  },
  {
   "cell_type": "code",
   "execution_count": null,
   "metadata": {},
   "outputs": [],
   "source": [
    "# Quick data exploration\n",
    "print(\"=== Customers Sample ===\")\n",
    "print(customers.head())\n",
    "print(\"\\n=== Orders Sample ===\")\n",
    "print(orders.head())\n",
    "print(\"\\n=== Order Items Sample ===\")\n",
    "print(order_items.head())"
   ]
  },
  {
   "cell_type": "markdown",
   "metadata": {},
   "source": [
    "## Part 1: Single Column Grouping\n",
    "\n",
    "### Basic GroupBy Syntax\n",
    "```python\n",
    "df.groupby('column_name').aggregation_function()\n",
    "```\n",
    "\n",
    "Let's start by analyzing customer distribution across cities."
   ]
  },
  {
   "cell_type": "code",
   "execution_count": null,
   "metadata": {},
   "outputs": [],
   "source": [
    "# Count customers by city\n",
    "customers_by_city = customers.groupby('customer_city').size()\n",
    "print(\"=== Customer Count by City ===\")\n",
    "print(customers_by_city.sort_values(ascending=False))\n",
    "\n",
    "# Visualize\n",
    "customers_by_city.sort_values(ascending=False).head(10).plot(kind='barh', color='steelblue')\n",
    "plt.title('Top 10 Cities by Customer Count', fontsize=14, fontweight='bold')\n",
    "plt.xlabel('Number of Customers')\n",
    "plt.ylabel('City')\n",
    "plt.tight_layout()\n",
    "plt.show()"
   ]
  },
  {
   "cell_type": "markdown",
   "metadata": {},
   "source": [
    "### Common Aggregation Functions\n",
    "- `.size()` - Count of rows (includes NaN)\n",
    "- `.count()` - Count of non-NaN values\n",
    "- `.sum()` - Sum of values\n",
    "- `.mean()` - Average\n",
    "- `.median()` - Median value\n",
    "- `.nunique()` - Count of unique values"
   ]
  },
  {
   "cell_type": "code",
   "execution_count": null,
   "metadata": {},
   "outputs": [],
   "source": [
    "# Calculate total revenue per order\n",
    "# First, we need to merge order_items to get prices\n",
    "order_revenue = order_items.groupby('order_id').agg({\n",
    "    'price': 'sum',\n",
    "    'freight_value': 'sum'\n",
    "})\n",
    "\n",
    "# Calculate total (price + freight)\n",
    "order_revenue['total_amount'] = order_revenue['price'] + order_revenue['freight_value']\n",
    "\n",
    "print(\"=== Order Revenue Summary ===\")\n",
    "print(order_revenue.head(10))\n",
    "print(\"\\n=== Revenue Statistics ===\")\n",
    "print(order_revenue['total_amount'].describe())"
   ]
  },
  {
   "cell_type": "code",
   "execution_count": null,
   "metadata": {},
   "outputs": [],
   "source": [
    "# Calculate number of items per order\n",
    "items_per_order = order_items.groupby('order_id').size()\n",
    "\n",
    "print(\"=== Items per Order Distribution ===\")\n",
    "print(items_per_order.value_counts().sort_index())\n",
    "\n",
    "# Visualize\n",
    "items_per_order.value_counts().sort_index().plot(kind='bar', color='coral')\n",
    "plt.title('Distribution of Items per Order', fontsize=14, fontweight='bold')\n",
    "plt.xlabel('Number of Items')\n",
    "plt.ylabel('Number of Orders')\n",
    "plt.tight_layout()\n",
    "plt.show()"
   ]
  },
  {
   "cell_type": "markdown",
   "metadata": {},
   "source": [
    "## Part 2: Multiple Column Grouping\n",
    "\n",
    "When grouping by multiple columns, pandas creates hierarchical groups.\n",
    "\n",
    "**Syntax:**\n",
    "```python\n",
    "df.groupby(['col1', 'col2']).aggregation_function()\n",
    "```"
   ]
  },
  {
   "cell_type": "code",
   "execution_count": null,
   "metadata": {},
   "outputs": [],
   "source": [
    "# Merge datasets to get city information with orders\n",
    "orders_with_customers = orders.merge(customers, on='customer_id', how='left')\n",
    "\n",
    "# Convert order_purchase_timestamp to datetime\n",
    "orders_with_customers['order_purchase_timestamp'] = pd.to_datetime(orders_with_customers['order_purchase_timestamp'])\n",
    "orders_with_customers['order_month'] = orders_with_customers['order_purchase_timestamp'].dt.to_period('M')\n",
    "\n",
    "# Group by state and month\n",
    "orders_by_state_month = orders_with_customers.groupby(['customer_state', 'order_month']).size()\n",
    "\n",
    "print(\"=== Orders by State and Month ===\")\n",
    "print(orders_by_state_month.head(15))"
   ]
  },
  {
   "cell_type": "code",
   "execution_count": null,
   "metadata": {},
   "outputs": [],
   "source": [
    "# Focus on Nigerian states\n",
    "nigerian_states = ['LA', 'AB', 'PH', 'KA']\n",
    "nigerian_orders = orders_with_customers[orders_with_customers['customer_state'].isin(nigerian_states)]\n",
    "\n",
    "# Group by state and city\n",
    "orders_by_location = nigerian_orders.groupby(['customer_state', 'customer_city']).agg({\n",
    "    'order_id': 'count',\n",
    "    'customer_id': 'nunique'\n",
    "}).rename(columns={\n",
    "    'order_id': 'total_orders',\n",
    "    'customer_id': 'unique_customers'\n",
    "})\n",
    "\n",
    "# Calculate orders per customer\n",
    "orders_by_location['orders_per_customer'] = (orders_by_location['total_orders'] / \n",
    "                                               orders_by_location['unique_customers']).round(2)\n",
    "\n",
    "print(\"=== Nigerian Location Analysis ===\")\n",
    "print(orders_by_location.sort_values('total_orders', ascending=False))"
   ]
  },
  {
   "cell_type": "markdown",
   "metadata": {},
   "source": [
    "## Part 3: Custom Aggregation with .agg()\n",
    "\n",
    "The `.agg()` method allows you to:\n",
    "- Apply different functions to different columns\n",
    "- Apply multiple functions to a single column\n",
    "- Use custom functions"
   ]
  },
  {
   "cell_type": "code",
   "execution_count": null,
   "metadata": {},
   "outputs": [],
   "source": [
    "# Multiple aggregations on order items\n",
    "order_summary = order_items.groupby('order_id').agg({\n",
    "    'order_item_id': 'count',      # Number of items\n",
    "    'price': ['sum', 'mean', 'min', 'max'],\n",
    "    'freight_value': 'sum'\n",
    "})\n",
    "\n",
    "print(\"=== Order Summary Statistics ===\")\n",
    "print(order_summary.head(10))"
   ]
  },
  {
   "cell_type": "code",
   "execution_count": null,
   "metadata": {},
   "outputs": [],
   "source": [
    "# Named aggregations (cleaner output)\n",
    "order_summary_clean = order_items.groupby('order_id').agg(\n",
    "    total_items=('order_item_id', 'count'),\n",
    "    total_revenue=('price', 'sum'),\n",
    "    avg_item_price=('price', 'mean'),\n",
    "    min_price=('price', 'min'),\n",
    "    max_price=('price', 'max'),\n",
    "    total_freight=('freight_value', 'sum')\n",
    ").round(2)\n",
    "\n",
    "print(\"=== Clean Order Summary ===\")\n",
    "print(order_summary_clean.head(10))\n",
    "\n",
    "print(\"\\n=== Summary Statistics ===\")\n",
    "print(order_summary_clean.describe())"
   ]
  },
  {
   "cell_type": "code",
   "execution_count": null,
   "metadata": {},
   "outputs": [],
   "source": [
    "# Custom aggregation function\n",
    "def price_range(x):\n",
    "    \"\"\"Calculate the range between max and min prices\"\"\"\n",
    "    return x.max() - x.min()\n",
    "\n",
    "# Apply custom function\n",
    "order_price_analysis = order_items.groupby('order_id').agg(\n",
    "    total_items=('order_item_id', 'count'),\n",
    "    total_revenue=('price', 'sum'),\n",
    "    price_range=('price', price_range),\n",
    "    price_std=('price', 'std')\n",
    ").round(2)\n",
    "\n",
    "print(\"=== Order Price Analysis ===\")\n",
    "print(order_price_analysis.head(10))\n",
    "\n",
    "# Filter orders with high price variation\n",
    "high_variation_orders = order_price_analysis[order_price_analysis['price_range'] > 100]\n",
    "print(f\"\\nOrders with price range > ₦100: {len(high_variation_orders)}\")"
   ]
  },
  {
   "cell_type": "markdown",
   "metadata": {},
   "source": [
    "## Part 4: Transform Operations\n",
    "\n",
    "`.transform()` broadcasts the result back to the original DataFrame shape.\n",
    "This is useful for:\n",
    "- Calculating percentage of total\n",
    "- Standardizing values within groups\n",
    "- Comparing individual values to group statistics"
   ]
  },
  {
   "cell_type": "code",
   "execution_count": null,
   "metadata": {},
   "outputs": [],
   "source": [
    "# Calculate each customer's total spending\n",
    "# First, create a comprehensive order dataset\n",
    "full_order_data = orders.merge(order_items, on='order_id')\n",
    "full_order_data['total_price'] = full_order_data['price'] + full_order_data['freight_value']\n",
    "\n",
    "# Calculate customer total using transform\n",
    "full_order_data['customer_total'] = full_order_data.groupby('customer_id')['total_price'].transform('sum')\n",
    "\n",
    "# Calculate percentage of customer total for each order\n",
    "full_order_data['pct_of_customer_total'] = (\n",
    "    full_order_data['total_price'] / full_order_data['customer_total'] * 100\n",
    ").round(2)\n",
    "\n",
    "print(\"=== Order Contribution to Customer Total ===\")\n",
    "print(full_order_data[['customer_id', 'order_id', 'total_price', 'customer_total', 'pct_of_customer_total']].head(15))"
   ]
  },
  {
   "cell_type": "code",
   "execution_count": null,
   "metadata": {},
   "outputs": [],
   "source": [
    "# Compare order value to customer average\n",
    "full_order_data['customer_avg'] = full_order_data.groupby('customer_id')['total_price'].transform('mean')\n",
    "full_order_data['above_avg'] = full_order_data['total_price'] > full_order_data['customer_avg']\n",
    "\n",
    "print(\"=== Orders Compared to Customer Average ===\")\n",
    "print(full_order_data[['customer_id', 'order_id', 'total_price', 'customer_avg', 'above_avg']].head(15))\n",
    "\n",
    "# Summary\n",
    "print(f\"\\nOrders above customer average: {full_order_data['above_avg'].sum()}\")\n",
    "print(f\"Orders below customer average: {(~full_order_data['above_avg']).sum()}\")"
   ]
  },
  {
   "cell_type": "markdown",
   "metadata": {},
   "source": [
    "## Part 5: Customer Purchase Behavior Analysis\n",
    "\n",
    "Let's apply everything we've learned to analyze customer behavior."
   ]
  },
  {
   "cell_type": "code",
   "execution_count": null,
   "metadata": {},
   "outputs": [],
   "source": [
    "# Comprehensive customer analysis\n",
    "customer_analysis = full_order_data.groupby('customer_id').agg(\n",
    "    total_orders=('order_id', 'nunique'),\n",
    "    total_items=('order_item_id', 'count'),\n",
    "    total_revenue=('total_price', 'sum'),\n",
    "    avg_order_value=('total_price', 'mean'),\n",
    "    min_order_value=('total_price', 'min'),\n",
    "    max_order_value=('total_price', 'max'),\n",
    "    std_order_value=('total_price', 'std')\n",
    ").round(2)\n",
    "\n",
    "# Calculate items per order\n",
    "customer_analysis['avg_items_per_order'] = (customer_analysis['total_items'] / \n",
    "                                             customer_analysis['total_orders']).round(2)\n",
    "\n",
    "print(\"=== Customer Purchase Behavior ===\")\n",
    "print(customer_analysis.sort_values('total_revenue', ascending=False).head(10))"
   ]
  },
  {
   "cell_type": "code",
   "execution_count": null,
   "metadata": {},
   "outputs": [],
   "source": [
    "# Segment customers by spending level\n",
    "customer_analysis['spending_tier'] = pd.cut(\n",
    "    customer_analysis['total_revenue'],\n",
    "    bins=[0, 100, 300, 600, float('inf')],\n",
    "    labels=['Low', 'Medium', 'High', 'VIP']\n",
    ")\n",
    "\n",
    "# Analyze by tier\n",
    "tier_analysis = customer_analysis.groupby('spending_tier').agg({\n",
    "    'total_revenue': ['count', 'sum', 'mean'],\n",
    "    'total_orders': 'mean',\n",
    "    'avg_order_value': 'mean'\n",
    "}).round(2)\n",
    "\n",
    "print(\"=== Customer Spending Tiers ===\")\n",
    "print(tier_analysis)\n",
    "\n",
    "# Visualize customer distribution\n",
    "customer_analysis['spending_tier'].value_counts().plot(kind='bar', color='skyblue')\n",
    "plt.title('Customer Distribution by Spending Tier', fontsize=14, fontweight='bold')\n",
    "plt.xlabel('Spending Tier')\n",
    "plt.ylabel('Number of Customers')\n",
    "plt.xticks(rotation=0)\n",
    "plt.tight_layout()\n",
    "plt.show()"
   ]
  },
  {
   "cell_type": "code",
   "execution_count": null,
   "metadata": {},
   "outputs": [],
   "source": [
    "# Identify repeat customers\n",
    "customer_analysis['is_repeat_customer'] = customer_analysis['total_orders'] > 1\n",
    "\n",
    "print(\"=== Repeat vs One-Time Customers ===\")\n",
    "repeat_summary = customer_analysis.groupby('is_repeat_customer').agg({\n",
    "    'total_revenue': ['count', 'sum', 'mean'],\n",
    "    'total_orders': 'mean'\n",
    "}).round(2)\n",
    "repeat_summary.index = ['One-Time', 'Repeat']\n",
    "print(repeat_summary)\n",
    "\n",
    "# Calculate percentage\n",
    "repeat_pct = (customer_analysis['is_repeat_customer'].sum() / len(customer_analysis) * 100).round(2)\n",
    "print(f\"\\nRepeat customer rate: {repeat_pct}%\")"
   ]
  },
  {
   "cell_type": "markdown",
   "metadata": {},
   "source": [
    "## Key Takeaways\n",
    "\n",
    "### GroupBy Operations\n",
    "1. **Single Column:** `df.groupby('col')` - Group by one dimension\n",
    "2. **Multiple Columns:** `df.groupby(['col1', 'col2'])` - Create hierarchical groups\n",
    "3. **Basic Aggregations:** `.sum()`, `.mean()`, `.count()`, `.nunique()`\n",
    "\n",
    "### Advanced Techniques\n",
    "1. **Custom Aggregations:** `.agg()` with dictionary or named aggregations\n",
    "2. **Transform:** Broadcast group statistics back to original shape\n",
    "3. **Multiple Functions:** Apply different functions to different columns\n",
    "\n",
    "### Business Applications\n",
    "1. **Customer Segmentation:** Group customers by spending behavior\n",
    "2. **Performance Analysis:** Compare individual values to group averages\n",
    "3. **Trend Analysis:** Track metrics over time and location\n",
    "\n",
    "### SQL to Pandas\n",
    "- SQL `GROUP BY` = pandas `.groupby()`\n",
    "- SQL `COUNT(*)` = pandas `.size()` or `.count()`\n",
    "- SQL `OVER (PARTITION BY)` = pandas `.transform()`\n",
    "\n",
    "## Next Steps\n",
    "1. Complete the exercises in `exercises/exercise-01-groupby-operations.ipynb`\n",
    "2. Review the `resources/pandas-groupby-reference.md` for quick reference\n",
    "3. Continue to Notebook 02: Multi-Index Operations"
   ]
  },
  {
   "cell_type": "markdown",
   "metadata": {},
   "source": [
    "---\n",
    "**PORA Academy Cohort 5 - Week 9 Wednesday Python**  \n",
    "*Customer Lifetime Value Analysis*"
   ]
  }
 ],
 "metadata": {
  "kernelspec": {
   "display_name": "Python 3",
   "language": "python",
   "name": "python3"
  },
  "language_info": {
   "codemirror_mode": {
    "name": "ipython",
    "version": 3
   },
   "file_extension": ".py",
   "mimetype": "text/x-python",
   "name": "python",
   "nbconvert_exporter": "python",
   "pygments_lexer": "ipython3",
   "version": "3.8.0"
  }
 },
 "nbformat": 4,
 "nbformat_minor": 4
}

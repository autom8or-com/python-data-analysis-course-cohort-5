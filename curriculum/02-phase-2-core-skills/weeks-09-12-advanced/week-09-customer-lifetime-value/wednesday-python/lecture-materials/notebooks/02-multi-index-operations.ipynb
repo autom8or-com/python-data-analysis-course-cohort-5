{
 "cells": [
  {
   "cell_type": "markdown",
   "metadata": {},
   "source": [
    "# Week 9: Multi-Index Operations and Data Pivoting\n",
    "\n",
    "## Learning Objectives\n",
    "By the end of this notebook, you will be able to:\n",
    "1. Create and work with hierarchical (multi-level) indexes\n",
    "2. Navigate and slice multi-indexed DataFrames\n",
    "3. Use `.unstack()` and `.stack()` to reshape data\n",
    "4. Create pivot tables with `.pivot()` and `.pivot_table()`\n",
    "5. Generate cross-tabulations with `pd.crosstab()`\n",
    "6. Build product-customer purchase matrices for analysis\n",
    "\n",
    "## Business Context\n",
    "We'll analyze product-customer purchase patterns to understand:\n",
    "- Which products are frequently bought together\n",
    "- Customer preferences across product categories\n",
    "- Purchase patterns by location and time\n",
    "- Cross-selling opportunities\n",
    "\n",
    "**Duration:** 45 minutes"
   ]
  },
  {
   "cell_type": "markdown",
   "metadata": {},
   "source": [
    "## Setup and Data Loading"
   ]
  },
  {
   "cell_type": "code",
   "execution_count": null,
   "metadata": {},
   "outputs": [],
   "source": [
    "# Import required libraries\n",
    "import pandas as pd\n",
    "import numpy as np\n",
    "import matplotlib.pyplot as plt\n",
    "import seaborn as sns\n",
    "\n",
    "# Set display options\n",
    "pd.set_option('display.max_columns', None)\n",
    "pd.set_option('display.precision', 2)\n",
    "pd.set_option('display.max_rows', 20)\n",
    "\n",
    "# Set visualization style\n",
    "sns.set_style('whitegrid')\n",
    "plt.rcParams['figure.figsize'] = (14, 7)"
   ]
  },
  {
   "cell_type": "code",
   "execution_count": null,
   "metadata": {},
   "outputs": [],
   "source": [
    "# Load datasets\n",
    "customers = pd.read_csv('../datasets/customers.csv')\n",
    "orders = pd.read_csv('../datasets/orders.csv')\n",
    "order_items = pd.read_csv('../datasets/order_items.csv')\n",
    "products = pd.read_csv('../datasets/products.csv')\n",
    "\n",
    "print(\"Data loaded successfully!\")"
   ]
  },
  {
   "cell_type": "code",
   "execution_count": null,
   "metadata": {},
   "outputs": [],
   "source": [
    "# Create comprehensive dataset\n",
    "# Merge all tables\n",
    "data = (order_items\n",
    "        .merge(orders, on='order_id')\n",
    "        .merge(customers, on='customer_id')\n",
    "        .merge(products, on='product_id'))\n",
    "\n",
    "# Calculate total price\n",
    "data['total_price'] = data['price'] + data['freight_value']\n",
    "\n",
    "# Convert timestamp to datetime\n",
    "data['order_purchase_timestamp'] = pd.to_datetime(data['order_purchase_timestamp'])\n",
    "data['order_month'] = data['order_purchase_timestamp'].dt.to_period('M')\n",
    "\n",
    "print(f\"Combined dataset: {len(data)} rows\")\n",
    "print(\"\\nSample data:\")\n",
    "print(data.head())"
   ]
  },
  {
   "cell_type": "markdown",
   "metadata": {},
   "source": [
    "## Part 1: Creating Multi-Index DataFrames\n",
    "\n",
    "A multi-index (hierarchical index) allows you to have multiple levels of row or column labels.\n",
    "\n",
    "**Benefits:**\n",
    "- Organize data in multiple dimensions\n",
    "- Efficient storage of sparse data\n",
    "- Natural representation of grouped data"
   ]
  },
  {
   "cell_type": "code",
   "execution_count": null,
   "metadata": {},
   "outputs": [],
   "source": [
    "# Create multi-index from groupby\n",
    "sales_by_category_state = data.groupby(['product_category_name', 'customer_state']).agg({\n",
    "    'order_id': 'count',\n",
    "    'total_price': 'sum'\n",
    "}).rename(columns={'order_id': 'num_orders', 'total_price': 'revenue'})\n",
    "\n",
    "print(\"=== Multi-Index Example ===\")\n",
    "print(sales_by_category_state.head(15))\n",
    "print(f\"\\nIndex levels: {sales_by_category_state.index.names}\")"
   ]
  },
  {
   "cell_type": "code",
   "execution_count": null,
   "metadata": {},
   "outputs": [],
   "source": [
    "# Accessing data in multi-index\n",
    "# Method 1: Using .loc with tuple\n",
    "print(\"=== Electronics in Lagos (LA) ===\")\n",
    "print(sales_by_category_state.loc[('eletronicos', 'LA')])\n",
    "\n",
    "# Method 2: Using .loc with slice\n",
    "print(\"\\n=== All categories in Lagos ===\")\n",
    "print(sales_by_category_state.loc[(slice(None), 'LA'), :])"
   ]
  },
  {
   "cell_type": "code",
   "execution_count": null,
   "metadata": {},
   "outputs": [],
   "source": [
    "# Create multi-index manually\n",
    "category_city_month = data.groupby(['product_category_name', 'customer_city', 'order_month']).agg({\n",
    "    'total_price': 'sum',\n",
    "    'order_id': 'nunique'\n",
    "}).rename(columns={'order_id': 'orders'})\n",
    "\n",
    "print(\"=== Three-Level Multi-Index ===\")\n",
    "print(category_city_month.head(20))\n",
    "print(f\"\\nIndex levels: {category_city_month.index.names}\")"
   ]
  },
  {
   "cell_type": "markdown",
   "metadata": {},
   "source": [
    "## Part 2: Unstacking and Stacking\n",
    "\n",
    "- **`.unstack()`**: Converts row index to columns (pivot operation)\n",
    "- **`.stack()`**: Converts columns to row index (unpivot operation)"
   ]
  },
  {
   "cell_type": "code",
   "execution_count": null,
   "metadata": {},
   "outputs": [],
   "source": [
    "# Unstack the last level (state)\n",
    "category_state_pivot = sales_by_category_state['revenue'].unstack()\n",
    "\n",
    "print(\"=== Revenue by Category and State (Pivoted) ===\")\n",
    "print(category_state_pivot)\n",
    "\n",
    "# Fill NaN values with 0\n",
    "category_state_pivot_filled = category_state_pivot.fillna(0)\n",
    "print(\"\\n=== After Filling NaN ===\")\n",
    "print(category_state_pivot_filled.head(10))"
   ]
  },
  {
   "cell_type": "code",
   "execution_count": null,
   "metadata": {},
   "outputs": [],
   "source": [
    "# Visualize category performance across states\n",
    "# Focus on Nigerian states\n",
    "nigerian_cols = ['LA', 'AB', 'PH', 'KA']\n",
    "nigerian_data = category_state_pivot_filled[nigerian_cols]\n",
    "\n",
    "# Top 5 categories by total revenue\n",
    "top_categories = nigerian_data.sum(axis=1).nlargest(5).index\n",
    "nigerian_data.loc[top_categories].plot(kind='bar', stacked=False)\n",
    "plt.title('Top 5 Product Categories by State Revenue', fontsize=14, fontweight='bold')\n",
    "plt.xlabel('Product Category')\n",
    "plt.ylabel('Revenue (₦)')\n",
    "plt.legend(title='State', bbox_to_anchor=(1.05, 1))\n",
    "plt.xticks(rotation=45, ha='right')\n",
    "plt.tight_layout()\n",
    "plt.show()"
   ]
  },
  {
   "cell_type": "code",
   "execution_count": null,
   "metadata": {},
   "outputs": [],
   "source": [
    "# Stack back to original format\n",
    "stacked_back = category_state_pivot_filled.stack()\n",
    "\n",
    "print(\"=== After Stacking Back ===\")\n",
    "print(stacked_back.head(15))\n",
    "print(f\"\\nType: {type(stacked_back)}\")\n",
    "print(f\"Index levels: {stacked_back.index.names}\")"
   ]
  },
  {
   "cell_type": "markdown",
   "metadata": {},
   "source": [
    "## Part 3: Pivot Tables\n",
    "\n",
    "Pivot tables aggregate data and reshape it simultaneously.\n",
    "\n",
    "**Syntax:**\n",
    "```python\n",
    "df.pivot_table(\n",
    "    values='column_to_aggregate',\n",
    "    index='row_labels',\n",
    "    columns='column_labels',\n",
    "    aggfunc='aggregation_function'\n",
    ")\n",
    "```"
   ]
  },
  {
   "cell_type": "code",
   "execution_count": null,
   "metadata": {},
   "outputs": [],
   "source": [
    "# Simple pivot table: revenue by category and state\n",
    "revenue_pivot = data.pivot_table(\n",
    "    values='total_price',\n",
    "    index='product_category_name',\n",
    "    columns='customer_state',\n",
    "    aggfunc='sum',\n",
    "    fill_value=0\n",
    ")\n",
    "\n",
    "print(\"=== Revenue Pivot Table ===\")\n",
    "print(revenue_pivot.head(10))"
   ]
  },
  {
   "cell_type": "code",
   "execution_count": null,
   "metadata": {},
   "outputs": [],
   "source": [
    "# Multiple aggregations\n",
    "multi_agg_pivot = data.pivot_table(\n",
    "    values='total_price',\n",
    "    index='product_category_name',\n",
    "    columns='customer_state',\n",
    "    aggfunc=['sum', 'mean', 'count'],\n",
    "    fill_value=0\n",
    ")\n",
    "\n",
    "print(\"=== Multiple Aggregations Pivot ===\")\n",
    "print(multi_agg_pivot.head())"
   ]
  },
  {
   "cell_type": "code",
   "execution_count": null,
   "metadata": {},
   "outputs": [],
   "source": [
    "# Pivot with margins (totals)\n",
    "category_month_pivot = data.pivot_table(\n",
    "    values='total_price',\n",
    "    index='product_category_name',\n",
    "    columns='order_month',\n",
    "    aggfunc='sum',\n",
    "    fill_value=0,\n",
    "    margins=True,\n",
    "    margins_name='Total'\n",
    ")\n",
    "\n",
    "print(\"=== Category Revenue by Month (with Totals) ===\")\n",
    "print(category_month_pivot.head(10))"
   ]
  },
  {
   "cell_type": "markdown",
   "metadata": {},
   "source": [
    "## Part 4: Cross-Tabulation with pd.crosstab()\n",
    "\n",
    "`pd.crosstab()` is specialized for counting frequencies and calculating proportions."
   ]
  },
  {
   "cell_type": "code",
   "execution_count": null,
   "metadata": {},
   "outputs": [],
   "source": [
    "# Basic crosstab: orders by category and state\n",
    "category_state_crosstab = pd.crosstab(\n",
    "    data['product_category_name'],\n",
    "    data['customer_state']\n",
    ")\n",
    "\n",
    "print(\"=== Order Frequency by Category and State ===\")\n",
    "print(category_state_crosstab.head(10))"
   ]
  },
  {
   "cell_type": "code",
   "execution_count": null,
   "metadata": {},
   "outputs": [],
   "source": [
    "# Crosstab with percentages\n",
    "category_state_pct = pd.crosstab(\n",
    "    data['product_category_name'],\n",
    "    data['customer_state'],\n",
    "    normalize='columns'  # Percentage within each state\n",
    ") * 100\n",
    "\n",
    "print(\"=== Category Percentage by State ===\")\n",
    "print(category_state_pct.round(2).head(10))"
   ]
  },
  {
   "cell_type": "code",
   "execution_count": null,
   "metadata": {},
   "outputs": [],
   "source": [
    "# Crosstab with values (like pivot_table)\n",
    "category_state_revenue = pd.crosstab(\n",
    "    data['product_category_name'],\n",
    "    data['customer_state'],\n",
    "    values=data['total_price'],\n",
    "    aggfunc='sum'\n",
    ").fillna(0)\n",
    "\n",
    "print(\"=== Revenue Crosstab ===\")\n",
    "print(category_state_revenue.head(10))\n",
    "\n",
    "# Heatmap visualization\n",
    "plt.figure(figsize=(12, 8))\n",
    "sns.heatmap(category_state_revenue, annot=False, fmt='.0f', cmap='YlOrRd', cbar_kws={'label': 'Revenue (₦)'})\n",
    "plt.title('Revenue Heatmap: Category vs State', fontsize=14, fontweight='bold')\n",
    "plt.xlabel('State')\n",
    "plt.ylabel('Product Category')\n",
    "plt.tight_layout()\n",
    "plt.show()"
   ]
  },
  {
   "cell_type": "markdown",
   "metadata": {},
   "source": [
    "## Part 5: Product-Customer Purchase Matrix\n",
    "\n",
    "Create a matrix showing which customers bought which product categories."
   ]
  },
  {
   "cell_type": "code",
   "execution_count": null,
   "metadata": {},
   "outputs": [],
   "source": [
    "# Customer-category purchase matrix\n",
    "customer_category_matrix = pd.crosstab(\n",
    "    data['customer_id'],\n",
    "    data['product_category_name']\n",
    ")\n",
    "\n",
    "print(\"=== Customer-Category Purchase Matrix ===\")\n",
    "print(customer_category_matrix.head(10))\n",
    "print(f\"\\nMatrix shape: {customer_category_matrix.shape}\")"
   ]
  },
  {
   "cell_type": "code",
   "execution_count": null,
   "metadata": {},
   "outputs": [],
   "source": [
    "# Convert to binary (1 if purchased, 0 if not)\n",
    "customer_category_binary = (customer_category_matrix > 0).astype(int)\n",
    "\n",
    "print(\"=== Binary Purchase Matrix ===\")\n",
    "print(customer_category_binary.head(10))"
   ]
  },
  {
   "cell_type": "code",
   "execution_count": null,
   "metadata": {},
   "outputs": [],
   "source": [
    "# Analyze category co-purchases\n",
    "# Create category-category correlation matrix\n",
    "category_correlation = customer_category_binary.T.corr()\n",
    "\n",
    "print(\"=== Top 10 Categories for Analysis ===\")\n",
    "top_10_categories = customer_category_matrix.sum().nlargest(10).index\n",
    "category_corr_subset = customer_category_binary[top_10_categories].T.corr()\n",
    "\n",
    "# Visualize correlation\n",
    "plt.figure(figsize=(10, 8))\n",
    "sns.heatmap(category_corr_subset, annot=True, fmt='.2f', cmap='coolwarm', center=0,\n",
    "            square=True, linewidths=0.5, cbar_kws={'label': 'Correlation'})\n",
    "plt.title('Product Category Co-Purchase Correlation', fontsize=14, fontweight='bold')\n",
    "plt.tight_layout()\n",
    "plt.show()"
   ]
  },
  {
   "cell_type": "code",
   "execution_count": null,
   "metadata": {},
   "outputs": [],
   "source": [
    "# Calculate category diversity per customer\n",
    "customer_diversity = customer_category_binary.sum(axis=1)\n",
    "\n",
    "print(\"=== Customer Category Diversity ===\")\n",
    "print(customer_diversity.value_counts().sort_index())\n",
    "\n",
    "# Visualize\n",
    "customer_diversity.value_counts().sort_index().plot(kind='bar', color='teal')\n",
    "plt.title('Distribution of Categories Purchased per Customer', fontsize=14, fontweight='bold')\n",
    "plt.xlabel('Number of Different Categories')\n",
    "plt.ylabel('Number of Customers')\n",
    "plt.tight_layout()\n",
    "plt.show()\n",
    "\n",
    "print(f\"\\nAverage categories per customer: {customer_diversity.mean():.2f}\")\n",
    "print(f\"Max categories purchased by one customer: {customer_diversity.max()}\")"
   ]
  },
  {
   "cell_type": "markdown",
   "metadata": {},
   "source": [
    "## Part 6: Advanced Multi-Index Operations\n",
    "\n",
    "Working with complex hierarchical data structures."
   ]
  },
  {
   "cell_type": "code",
   "execution_count": null,
   "metadata": {},
   "outputs": [],
   "source": [
    "# Create complex multi-index pivot\n",
    "complex_pivot = data.pivot_table(\n",
    "    values='total_price',\n",
    "    index=['customer_state', 'customer_city'],\n",
    "    columns=['order_month'],\n",
    "    aggfunc='sum',\n",
    "    fill_value=0\n",
    ")\n",
    "\n",
    "print(\"=== Complex Multi-Index Pivot ===\")\n",
    "print(complex_pivot.head(15))"
   ]
  },
  {
   "cell_type": "code",
   "execution_count": null,
   "metadata": {},
   "outputs": [],
   "source": [
    "# Reset index to flatten\n",
    "complex_pivot_flat = complex_pivot.reset_index()\n",
    "\n",
    "print(\"=== Flattened Pivot ===\")\n",
    "print(complex_pivot_flat.head(10))"
   ]
  },
  {
   "cell_type": "code",
   "execution_count": null,
   "metadata": {},
   "outputs": [],
   "source": [
    "# Swap index levels\n",
    "sales_city_category = data.groupby(['customer_city', 'product_category_name'])['total_price'].sum()\n",
    "\n",
    "print(\"=== Original Multi-Index ===\")\n",
    "print(sales_city_category.head(10))\n",
    "\n",
    "# Swap levels\n",
    "sales_category_city = sales_city_category.swaplevel()\n",
    "\n",
    "print(\"\\n=== After Swapping Levels ===\")\n",
    "print(sales_category_city.head(10))\n",
    "\n",
    "# Sort by new index\n",
    "sales_category_city_sorted = sales_category_city.sort_index()\n",
    "print(\"\\n=== Sorted by New Index ===\")\n",
    "print(sales_category_city_sorted.head(10))"
   ]
  },
  {
   "cell_type": "markdown",
   "metadata": {},
   "source": [
    "## Part 7: Business Insights from Multi-Index Data"
   ]
  },
  {
   "cell_type": "code",
   "execution_count": null,
   "metadata": {},
   "outputs": [],
   "source": [
    "# Identify top-performing state-city combinations\n",
    "location_performance = data.groupby(['customer_state', 'customer_city']).agg({\n",
    "    'total_price': 'sum',\n",
    "    'order_id': 'nunique',\n",
    "    'customer_id': 'nunique'\n",
    "}).rename(columns={\n",
    "    'total_price': 'revenue',\n",
    "    'order_id': 'orders',\n",
    "    'customer_id': 'customers'\n",
    "})\n",
    "\n",
    "# Calculate average order value\n",
    "location_performance['avg_order_value'] = (location_performance['revenue'] / \n",
    "                                            location_performance['orders']).round(2)\n",
    "\n",
    "print(\"=== Top 10 Locations by Revenue ===\")\n",
    "print(location_performance.sort_values('revenue', ascending=False).head(10))"
   ]
  },
  {
   "cell_type": "code",
   "execution_count": null,
   "metadata": {},
   "outputs": [],
   "source": [
    "# Focus on Nigerian locations\n",
    "nigerian_states = ['LA', 'AB', 'PH', 'KA']\n",
    "nigerian_performance = location_performance.loc[nigerian_states]\n",
    "\n",
    "print(\"=== Nigerian Location Performance ===\")\n",
    "print(nigerian_performance.sort_values('revenue', ascending=False))\n",
    "\n",
    "# Unstack for visualization\n",
    "nigerian_revenue = nigerian_performance['revenue'].unstack(level=0)\n",
    "nigerian_revenue.plot(kind='bar', stacked=True, figsize=(12, 6))\n",
    "plt.title('Revenue Distribution Across Nigerian Cities', fontsize=14, fontweight='bold')\n",
    "plt.xlabel('City')\n",
    "plt.ylabel('Revenue (₦)')\n",
    "plt.legend(title='State', bbox_to_anchor=(1.05, 1))\n",
    "plt.xticks(rotation=45, ha='right')\n",
    "plt.tight_layout()\n",
    "plt.show()"
   ]
  },
  {
   "cell_type": "markdown",
   "metadata": {},
   "source": [
    "## Key Takeaways\n",
    "\n",
    "### Multi-Index Concepts\n",
    "1. **Creation:** Automatically from `groupby()` with multiple columns\n",
    "2. **Navigation:** Use `.loc[]` with tuples or slices\n",
    "3. **Manipulation:** `swaplevel()`, `reset_index()`, `set_index()`\n",
    "\n",
    "### Reshaping Operations\n",
    "1. **Unstack:** Convert row index to columns (wide format)\n",
    "2. **Stack:** Convert columns to row index (long format)\n",
    "3. **Pivot Table:** Aggregate and reshape simultaneously\n",
    "4. **Crosstab:** Count frequencies and calculate proportions\n",
    "\n",
    "### Business Applications\n",
    "1. **Purchase Matrices:** Identify customer-product relationships\n",
    "2. **Correlation Analysis:** Find products frequently bought together\n",
    "3. **Location Analytics:** Compare performance across dimensions\n",
    "4. **Time Series Analysis:** Track metrics over multiple dimensions\n",
    "\n",
    "### Best Practices\n",
    "1. Use `.fillna(0)` after unstacking to handle missing combinations\n",
    "2. Reset index to flatten for easier manipulation\n",
    "3. Use `margins=True` in pivot tables for row/column totals\n",
    "4. Visualize with heatmaps for pattern recognition\n",
    "\n",
    "## Next Steps\n",
    "1. Complete `exercises/exercise-02-pivoting-data.ipynb`\n",
    "2. Review `resources/multi-index-guide.md` for quick reference\n",
    "3. Continue to Notebook 03: Advanced Aggregations"
   ]
  },
  {
   "cell_type": "markdown",
   "metadata": {},
   "source": [
    "---\n",
    "**PORA Academy Cohort 5 - Week 9 Wednesday Python**  \n",
    "*Customer Lifetime Value Analysis*"
   ]
  }
 ],
 "metadata": {
  "kernelspec": {
   "display_name": "Python 3",
   "language": "python",
   "name": "python3"
  },
  "language_info": {
   "codemirror_mode": {
    "name": "ipython",
    "version": 3
   },
   "file_extension": ".py",
   "mimetype": "text/x-python",
   "name": "python",
   "nbconvert_exporter": "python",
   "pygments_lexer": "ipython3",
   "version": "3.8.0"
  }
 },
 "nbformat": 4,
 "nbformat_minor": 4
}

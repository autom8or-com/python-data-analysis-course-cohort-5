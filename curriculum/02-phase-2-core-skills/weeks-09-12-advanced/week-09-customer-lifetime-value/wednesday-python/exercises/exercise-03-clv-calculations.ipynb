{
 "cells": [
  {
   "cell_type": "markdown",
   "metadata": {},
   "source": [
    "# Exercise 03: Customer Lifetime Value Calculations\n",
    "\n",
    "## Instructions\n",
    "Apply advanced aggregations to calculate CLV metrics and perform RFM segmentation.\n",
    "\n",
    "**Expected Time:** 45-60 minutes"
   ]
  },
  {
   "cell_type": "code",
   "execution_count": null,
   "metadata": {},
   "outputs": [],
   "source": [
    "# Setup\n",
    "import pandas as pd\n",
    "import numpy as np\n",
    "import matplotlib.pyplot as plt\n",
    "import seaborn as sns\n",
    "from datetime import datetime\n",
    "\n",
    "# Load data\n",
    "customers = pd.read_csv('../lecture-materials/datasets/customers.csv')\n",
    "orders = pd.read_csv('../lecture-materials/datasets/orders.csv')\n",
    "order_items = pd.read_csv('../lecture-materials/datasets/order_items.csv')\n",
    "products = pd.read_csv('../lecture-materials/datasets/products.csv')\n",
    "\n",
    "data = (order_items.merge(orders, on='order_id')\n",
    "                   .merge(customers, on='customer_id')\n",
    "                   .merge(products, on='product_id'))\n",
    "data['total_price'] = data['price'] + data['freight_value']\n",
    "data['order_purchase_timestamp'] = pd.to_datetime(data['order_purchase_timestamp'])\n",
    "\n",
    "print(\"Data ready!\")"
   ]
  },
  {
   "cell_type": "markdown",
   "metadata": {},
   "source": [
    "## Exercise 1: Calculate RFM Metrics (30 points)\n",
    "Calculate Recency, Frequency, and Monetary value for each customer."
   ]
  },
  {
   "cell_type": "code",
   "execution_count": null,
   "metadata": {},
   "outputs": [],
   "source": [
    "# TODO: Define analysis date (max date + 1 day)\n",
    "analysis_date = # YOUR CODE HERE\n",
    "\n",
    "# TODO: Calculate RFM\n",
    "rfm = data.groupby('customer_id').agg(\n",
    "    # YOUR CODE HERE - recency, frequency, monetary\n",
    ").round(2)\n",
    "\n",
    "print(\"RFM Metrics:\")\n",
    "print(rfm.head(10))\n",
    "print(\"\\nRFM Statistics:\")\n",
    "print(rfm.describe())\n",
    "\n",
    "# HINT: Recency uses lambda function with date difference"
   ]
  },
  {
   "cell_type": "markdown",
   "metadata": {},
   "source": [
    "## Exercise 2: Create RFM Scores (25 points)\n",
    "Assign scores 1-4 to each RFM component using quartiles."
   ]
  },
  {
   "cell_type": "code",
   "execution_count": null,
   "metadata": {},
   "outputs": [],
   "source": [
    "# TODO: Create RFM scores using pd.qcut()\n",
    "rfm['r_score'] = # YOUR CODE HERE (lower recency is better, so reverse labels)\n",
    "rfm['f_score'] = # YOUR CODE HERE\n",
    "rfm['m_score'] = # YOUR CODE HERE\n",
    "\n",
    "# TODO: Create combined RFM score string\n",
    "rfm['rfm_score'] = # YOUR CODE HERE\n",
    "\n",
    "print(\"RFM Scores:\")\n",
    "print(rfm.head(10))\n",
    "\n",
    "# HINT: For recency, use labels=[4, 3, 2, 1] to reverse"
   ]
  },
  {
   "cell_type": "markdown",
   "metadata": {},
   "source": [
    "## Exercise 3: Customer Segmentation (25 points)\n",
    "Create customer segments based on RFM scores."
   ]
  },
  {
   "cell_type": "code",
   "execution_count": null,
   "metadata": {},
   "outputs": [],
   "source": [
    "# TODO: Define segmentation function\n",
    "def segment_customer(row):\n",
    "    \"\"\"Classify customer based on RFM scores\"\"\"\n",
    "    r = int(row['r_score'])\n",
    "    f = int(row['f_score'])\n",
    "    m = int(row['m_score'])\n",
    "    \n",
    "    # YOUR SEGMENTATION LOGIC HERE\n",
    "    # Define rules for: Champions, Loyal, At Risk, Lost, etc.\n",
    "    \n",
    "    pass\n",
    "\n",
    "# TODO: Apply segmentation\n",
    "rfm['segment'] = # YOUR CODE HERE\n",
    "\n",
    "# TODO: Analyze segments\n",
    "segment_summary = # YOUR CODE HERE\n",
    "\n",
    "print(\"Segment Distribution:\")\n",
    "print(rfm['segment'].value_counts())\n",
    "print(\"\\nSegment Analysis:\")\n",
    "print(segment_summary)\n",
    "\n",
    "# HINT: Champions = high R, F, M; At Risk = low R, high F"
   ]
  },
  {
   "cell_type": "markdown",
   "metadata": {},
   "source": [
    "## Exercise 4: Statistical Customer Analysis (20 points)\n",
    "Calculate statistical metrics for customer purchase behavior."
   ]
  },
  {
   "cell_type": "code",
   "execution_count": null,
   "metadata": {},
   "outputs": [],
   "source": [
    "# TODO: Custom aggregation for CV\n",
    "def coefficient_variation(x):\n",
    "    # YOUR CODE HERE\n",
    "    pass\n",
    "\n",
    "# TODO: Calculate comprehensive customer stats\n",
    "customer_stats = data.groupby('customer_id').agg(\n",
    "    # YOUR CODE HERE - include mean, std, min, max, quartiles\n",
    ").round(2)\n",
    "\n",
    "print(\"Customer Statistics:\")\n",
    "print(customer_stats.head(10))\n",
    "\n",
    "# TODO: Identify high-value customers (top 10% by spending)\n",
    "high_value_threshold = # YOUR CODE HERE\n",
    "high_value_customers = # YOUR CODE HERE\n",
    "\n",
    "print(f\"\\nHigh-value customers: {len(high_value_customers)}\")\n",
    "print(f\"Threshold: ₦{high_value_threshold:.2f}\")"
   ]
  },
  {
   "cell_type": "markdown",
   "metadata": {},
   "source": [
    "## Bonus: Marketing Recommendations (Extra Credit)\n",
    "Generate marketing recommendations for each segment."
   ]
  },
  {
   "cell_type": "code",
   "execution_count": null,
   "metadata": {},
   "outputs": [],
   "source": [
    "# TODO: Create marketing strategy recommendations\n",
    "def recommend_strategy(segment):\n",
    "    \"\"\"Return marketing recommendation for segment\"\"\"\n",
    "    # YOUR CODE HERE\n",
    "    pass\n",
    "\n",
    "# TODO: Apply and display\n",
    "rfm['marketing_action'] = # YOUR CODE HERE\n",
    "\n",
    "# TODO: Calculate budget allocation\n",
    "# Allocate marketing budget proportional to segment value\n",
    "segment_value = # YOUR CODE HERE\n",
    "\n",
    "print(\"Marketing Strategy by Segment:\")\n",
    "# YOUR CODE HERE"
   ]
  },
  {
   "cell_type": "markdown",
   "metadata": {},
   "source": [
    "---\n",
    "**Total: 100 points (+ bonus)**"
   ]
  }
 ],
 "metadata": {
  "kernelspec": {
   "display_name": "Python 3",
   "language": "python",
   "name": "python3"
  },
  "language_info": {
   "codemirror_mode": {
    "name": "ipython",
    "version": 3
   },
   "file_extension": ".py",
   "mimetype": "text/x-python",
   "name": "python",
   "nbconvert_exporter": "python",
   "pygments_lexer": "ipython3",
   "version": "3.8.0"
  }
 },
 "nbformat": 4,
 "nbformat_minor": 4
}

{
 "cells": [
  {
   "cell_type": "markdown",
   "metadata": {},
   "source": [
    "# Exercise 01: GroupBy Operations\n",
    "\n",
    "## Instructions\n",
    "Complete the exercises below using the e-commerce dataset. Each exercise has a TODO comment indicating what you need to accomplish.\n",
    "\n",
    "**Tips:**\n",
    "- Review lecture notebook 01-groupby-mastery.ipynb if you need help\n",
    "- Test your code after each exercise\n",
    "- Check the solutions only after attempting on your own\n",
    "\n",
    "**Expected Time:** 30-45 minutes"
   ]
  },
  {
   "cell_type": "code",
   "execution_count": null,
   "metadata": {},
   "outputs": [],
   "source": [
    "# Setup\n",
    "import pandas as pd\n",
    "import numpy as np\n",
    "import matplotlib.pyplot as plt\n",
    "\n",
    "# Load datasets\n",
    "customers = pd.read_csv('../lecture-materials/datasets/customers.csv')\n",
    "orders = pd.read_csv('../lecture-materials/datasets/orders.csv')\n",
    "order_items = pd.read_csv('../lecture-materials/datasets/order_items.csv')\n",
    "products = pd.read_csv('../lecture-materials/datasets/products.csv')\n",
    "\n",
    "# Create merged dataset\n",
    "data = (order_items\n",
    "        .merge(orders, on='order_id')\n",
    "        .merge(customers, on='customer_id')\n",
    "        .merge(products, on='product_id'))\n",
    "\n",
    "data['total_price'] = data['price'] + data['freight_value']\n",
    "data['order_purchase_timestamp'] = pd.to_datetime(data['order_purchase_timestamp'])\n",
    "\n",
    "print(\"Data loaded successfully!\")"
   ]
  },
  {
   "cell_type": "markdown",
   "metadata": {},
   "source": [
    "## Exercise 1: Basic GroupBy (10 points)\n",
    "\n",
    "Calculate the total number of customers in each Nigerian state (LA, AB, PH, KA)."
   ]
  },
  {
   "cell_type": "code",
   "execution_count": null,
   "metadata": {},
   "outputs": [],
   "source": [
    "# TODO: Filter for Nigerian states only\n",
    "nigerian_states = ['LA', 'AB', 'PH', 'KA']\n",
    "nigerian_customers = # YOUR CODE HERE\n",
    "\n",
    "# TODO: Group by customer_state and count unique customers\n",
    "customers_by_state = # YOUR CODE HERE\n",
    "\n",
    "print(\"Customers by State:\")\n",
    "print(customers_by_state)\n",
    "\n",
    "# HINT: Use .groupby('customer_state')['customer_id'].nunique()"
   ]
  },
  {
   "cell_type": "markdown",
   "metadata": {},
   "source": [
    "## Exercise 2: Multiple Aggregations (15 points)\n",
    "\n",
    "For each product category, calculate:\n",
    "- Total revenue\n",
    "- Average price\n",
    "- Number of orders\n",
    "- Number of unique customers"
   ]
  },
  {
   "cell_type": "code",
   "execution_count": null,
   "metadata": {},
   "outputs": [],
   "source": [
    "# TODO: Create aggregations using .agg()\n",
    "category_summary = data.groupby('product_category_name').agg({\n",
    "    # YOUR CODE HERE - fill in the aggregations\n",
    "}).round(2)\n",
    "\n",
    "# TODO: Sort by total revenue in descending order\n",
    "category_summary = # YOUR CODE HERE\n",
    "\n",
    "print(\"Top 10 Categories:\")\n",
    "print(category_summary.head(10))\n",
    "\n",
    "# HINT: Use 'sum', 'mean', 'nunique' as aggregation functions"
   ]
  },
  {
   "cell_type": "markdown",
   "metadata": {},
   "source": [
    "## Exercise 3: Named Aggregations (15 points)\n",
    "\n",
    "Calculate customer-level metrics using named aggregations:\n",
    "- total_spent: Sum of all purchases\n",
    "- num_orders: Count of unique orders\n",
    "- avg_order_value: Mean purchase amount\n",
    "- max_purchase: Maximum single purchase"
   ]
  },
  {
   "cell_type": "code",
   "execution_count": null,
   "metadata": {},
   "outputs": [],
   "source": [
    "# TODO: Use named aggregations\n",
    "customer_metrics = data.groupby('customer_id').agg(\n",
    "    # YOUR CODE HERE\n",
    ").round(2)\n",
    "\n",
    "print(\"Customer Metrics:\")\n",
    "print(customer_metrics.head(10))\n",
    "\n",
    "# HINT: Syntax is metric_name=('column_name', 'aggregation_function')"
   ]
  },
  {
   "cell_type": "markdown",
   "metadata": {},
   "source": [
    "## Exercise 4: Transform Operation (20 points)\n",
    "\n",
    "For each order, calculate what percentage it represents of the customer's total spending."
   ]
  },
  {
   "cell_type": "code",
   "execution_count": null,
   "metadata": {},
   "outputs": [],
   "source": [
    "# TODO: Calculate customer total using transform\n",
    "data['customer_total'] = # YOUR CODE HERE\n",
    "\n",
    "# TODO: Calculate percentage contribution\n",
    "data['pct_of_total'] = # YOUR CODE HERE\n",
    "\n",
    "# Display results\n",
    "print(\"Order Contribution Analysis:\")\n",
    "print(data[['customer_id', 'order_id', 'total_price', 'customer_total', 'pct_of_total']].head(15))\n",
    "\n",
    "# HINT: Use .transform('sum') and then divide"
   ]
  },
  {
   "cell_type": "markdown",
   "metadata": {},
   "source": [
    "## Exercise 5: Custom Aggregation Function (20 points)\n",
    "\n",
    "Create a custom function to calculate the coefficient of variation (CV) for customer order values.\n",
    "CV = (standard deviation / mean) * 100"
   ]
  },
  {
   "cell_type": "code",
   "execution_count": null,
   "metadata": {},
   "outputs": [],
   "source": [
    "# TODO: Define custom function\n",
    "def coeff_variation(x):\n",
    "    \"\"\"Calculate coefficient of variation\"\"\"\n",
    "    # YOUR CODE HERE\n",
    "    pass\n",
    "\n",
    "# TODO: Apply custom function\n",
    "customer_variability = data.groupby('customer_id').agg(\n",
    "    num_orders=('order_id', 'nunique'),\n",
    "    avg_order=('total_price', 'mean'),\n",
    "    std_order=('total_price', 'std'),\n",
    "    cv=('total_price', coeff_variation)\n",
    ").round(2)\n",
    "\n",
    "# Filter customers with more than 1 order\n",
    "customer_variability = customer_variability[customer_variability['num_orders'] > 1]\n",
    "\n",
    "print(\"Customer Order Variability:\")\n",
    "print(customer_variability.sort_values('cv', ascending=False).head(10))\n",
    "\n",
    "# HINT: Check for zero mean to avoid division by zero"
   ]
  },
  {
   "cell_type": "markdown",
   "metadata": {},
   "source": [
    "## Exercise 6: Multi-Column GroupBy (20 points)\n",
    "\n",
    "Analyze orders by state and month. Calculate total revenue and number of orders for each state-month combination."
   ]
  },
  {
   "cell_type": "code",
   "execution_count": null,
   "metadata": {},
   "outputs": [],
   "source": [
    "# TODO: Extract month from timestamp\n",
    "data['order_month'] = # YOUR CODE HERE\n",
    "\n",
    "# TODO: Group by state and month\n",
    "state_month_analysis = # YOUR CODE HERE\n",
    "\n",
    "print(\"State-Month Analysis:\")\n",
    "print(state_month_analysis.head(20))\n",
    "\n",
    "# TODO: Find the month with highest revenue for Lagos (LA)\n",
    "lagos_data = # YOUR CODE HERE\n",
    "print(\"\\nLagos Monthly Performance:\")\n",
    "print(lagos_data)\n",
    "\n",
    "# HINT: Use .dt.to_period('M') for monthly periods"
   ]
  },
  {
   "cell_type": "markdown",
   "metadata": {},
   "source": [
    "## Bonus Challenge: Identify VIP Customers (Extra Credit)\n",
    "\n",
    "Identify VIP customers who meet ALL these criteria:\n",
    "- Total spending > ₦500\n",
    "- More than 2 orders\n",
    "- Purchased from at least 2 different categories"
   ]
  },
  {
   "cell_type": "code",
   "execution_count": null,
   "metadata": {},
   "outputs": [],
   "source": [
    "# TODO: Calculate customer criteria\n",
    "customer_profile = data.groupby('customer_id').agg(\n",
    "    # YOUR CODE HERE\n",
    ")\n",
    "\n",
    "# TODO: Filter for VIP customers\n",
    "vip_customers = # YOUR CODE HERE\n",
    "\n",
    "print(f\"Total VIP Customers: {len(vip_customers)}\")\n",
    "print(\"\\nVIP Customer Details:\")\n",
    "print(vip_customers.head(10))\n",
    "\n",
    "# HINT: Use boolean indexing with multiple conditions"
   ]
  },
  {
   "cell_type": "markdown",
   "metadata": {},
   "source": [
    "---\n",
    "## Submission\n",
    "\n",
    "Once complete:\n",
    "1. Ensure all cells execute without errors\n",
    "2. Review your outputs for correctness\n",
    "3. Compare with solution notebook (after attempting all exercises)\n",
    "4. Share insights or challenges in class discussion\n",
    "\n",
    "**Points Distribution:**\n",
    "- Exercise 1: 10 points\n",
    "- Exercise 2: 15 points\n",
    "- Exercise 3: 15 points\n",
    "- Exercise 4: 20 points\n",
    "- Exercise 5: 20 points\n",
    "- Exercise 6: 20 points\n",
    "- Bonus: 10 points extra credit\n",
    "\n",
    "**Total: 100 points (110 with bonus)**"
   ]
  }
 ],
 "metadata": {
  "kernelspec": {
   "display_name": "Python 3",
   "language": "python",
   "name": "python3"
  },
  "language_info": {
   "codemirror_mode": {
    "name": "ipython",
    "version": 3
   },
   "file_extension": ".py",
   "mimetype": "text/x-python",
   "name": "python",
   "nbconvert_exporter": "python",
   "pygments_lexer": "ipython3",
   "version": "3.8.0"
  }
 },
 "nbformat": 4,
 "nbformat_minor": 4
}

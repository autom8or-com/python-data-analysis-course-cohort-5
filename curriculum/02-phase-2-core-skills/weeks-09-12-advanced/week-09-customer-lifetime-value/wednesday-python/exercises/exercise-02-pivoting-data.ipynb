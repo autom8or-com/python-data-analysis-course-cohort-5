{
 "cells": [
  {
   "cell_type": "markdown",
   "metadata": {},
   "source": [
    "# Exercise 02: Pivoting and Multi-Index Operations\n",
    "\n",
    "## Instructions\n",
    "Practice creating pivot tables, working with multi-index DataFrames, and using crosstab.\n",
    "\n",
    "**Expected Time:** 30-45 minutes"
   ]
  },
  {
   "cell_type": "code",
   "execution_count": null,
   "metadata": {},
   "outputs": [],
   "source": [
    "# Setup\n",
    "import pandas as pd\n",
    "import numpy as np\n",
    "import matplotlib.pyplot as plt\n",
    "import seaborn as sns\n",
    "\n",
    "# Load and merge data\n",
    "customers = pd.read_csv('../lecture-materials/datasets/customers.csv')\n",
    "orders = pd.read_csv('../lecture-materials/datasets/orders.csv')\n",
    "order_items = pd.read_csv('../lecture-materials/datasets/order_items.csv')\n",
    "products = pd.read_csv('../lecture-materials/datasets/products.csv')\n",
    "\n",
    "data = (order_items.merge(orders, on='order_id')\n",
    "                   .merge(customers, on='customer_id')\n",
    "                   .merge(products, on='product_id'))\n",
    "data['total_price'] = data['price'] + data['freight_value']\n",
    "data['order_purchase_timestamp'] = pd.to_datetime(data['order_purchase_timestamp'])\n",
    "data['order_month'] = data['order_purchase_timestamp'].dt.to_period('M')\n",
    "\n",
    "print(\"Data ready!\")"
   ]
  },
  {
   "cell_type": "markdown",
   "metadata": {},
   "source": [
    "## Exercise 1: Create Pivot Table (20 points)\n",
    "Create a pivot table showing revenue by product category (rows) and customer state (columns)."
   ]
  },
  {
   "cell_type": "code",
   "execution_count": null,
   "metadata": {},
   "outputs": [],
   "source": [
    "# TODO: Create pivot table\n",
    "revenue_pivot = # YOUR CODE HERE\n",
    "\n",
    "print(\"Revenue by Category and State:\")\n",
    "print(revenue_pivot.head(10))\n",
    "\n",
    "# HINT: Use pd.pivot_table() with values, index, columns parameters"
   ]
  },
  {
   "cell_type": "markdown",
   "metadata": {},
   "source": [
    "## Exercise 2: Unstack Multi-Index (20 points)\n",
    "Group by state and city, then unstack to create a wide-format table."
   ]
  },
  {
   "cell_type": "code",
   "execution_count": null,
   "metadata": {},
   "outputs": [],
   "source": [
    "# TODO: Create multi-index groupby\n",
    "state_city_sales = # YOUR CODE HERE\n",
    "\n",
    "# TODO: Unstack the city level\n",
    "sales_pivot = # YOUR CODE HERE\n",
    "\n",
    "print(\"Sales by State and City (Pivoted):\")\n",
    "print(sales_pivot.head())\n",
    "\n",
    "# HINT: Use .groupby(['state', 'city']).sum() then .unstack()"
   ]
  },
  {
   "cell_type": "markdown",
   "metadata": {},
   "source": [
    "## Exercise 3: Crosstab Analysis (20 points)\n",
    "Create a crosstab showing count of purchases by customer state and product category."
   ]
  },
  {
   "cell_type": "code",
   "execution_count": null,
   "metadata": {},
   "outputs": [],
   "source": [
    "# TODO: Create crosstab\n",
    "purchase_crosstab = # YOUR CODE HERE\n",
    "\n",
    "print(\"Purchase Frequency:\")\n",
    "print(purchase_crosstab)\n",
    "\n",
    "# TODO: Calculate percentage by state\n",
    "purchase_pct = # YOUR CODE HERE\n",
    "\n",
    "print(\"\\nPercentage by State:\")\n",
    "print(purchase_pct.round(2))\n",
    "\n",
    "# HINT: Use pd.crosstab() and normalize parameter"
   ]
  },
  {
   "cell_type": "markdown",
   "metadata": {},
   "source": [
    "## Exercise 4: Customer-Product Matrix (25 points)\n",
    "Create a binary matrix showing which customers purchased which product categories."
   ]
  },
  {
   "cell_type": "code",
   "execution_count": null,
   "metadata": {},
   "outputs": [],
   "source": [
    "# TODO: Create customer-category matrix\n",
    "customer_product_matrix = # YOUR CODE HERE\n",
    "\n",
    "# TODO: Convert to binary (1 if purchased, 0 if not)\n",
    "customer_product_binary = # YOUR CODE HERE\n",
    "\n",
    "print(f\"Matrix shape: {customer_product_binary.shape}\")\n",
    "print(\"\\nSample:\")\n",
    "print(customer_product_binary.head(10))\n",
    "\n",
    "# TODO: Calculate category diversity per customer\n",
    "categories_per_customer = # YOUR CODE HERE\n",
    "\n",
    "print(f\"\\nAverage categories per customer: {categories_per_customer.mean():.2f}\")\n",
    "\n",
    "# HINT: Use pd.crosstab() then convert with (matrix > 0).astype(int)"
   ]
  },
  {
   "cell_type": "markdown",
   "metadata": {},
   "source": [
    "## Exercise 5: Time Series Pivot (15 points)\n",
    "Create a pivot showing monthly revenue by product category."
   ]
  },
  {
   "cell_type": "code",
   "execution_count": null,
   "metadata": {},
   "outputs": [],
   "source": [
    "# TODO: Create monthly revenue pivot\n",
    "monthly_category_revenue = # YOUR CODE HERE\n",
    "\n",
    "print(\"Monthly Revenue by Category:\")\n",
    "print(monthly_category_revenue)\n",
    "\n",
    "# TODO: Visualize top 5 categories\n",
    "top_5_categories = # YOUR CODE HERE\n",
    "\n",
    "# YOUR PLOT CODE HERE\n",
    "\n",
    "# HINT: Use pivot_table with order_month as index"
   ]
  },
  {
   "cell_type": "markdown",
   "metadata": {},
   "source": [
    "---\n",
    "**Total: 100 points**"
   ]
  }
 ],
 "metadata": {
  "kernelspec": {
   "display_name": "Python 3",
   "language": "python",
   "name": "python3"
  },
  "language_info": {
   "codemirror_mode": {
    "name": "ipython",
    "version": 3
   },
   "file_extension": ".py",
   "mimetype": "text/x-python",
   "name": "python",
   "nbconvert_exporter": "python",
   "pygments_lexer": "ipython3",
   "version": "3.8.0"
  }
 },
 "nbformat": 4,
 "nbformat_minor": 4
}

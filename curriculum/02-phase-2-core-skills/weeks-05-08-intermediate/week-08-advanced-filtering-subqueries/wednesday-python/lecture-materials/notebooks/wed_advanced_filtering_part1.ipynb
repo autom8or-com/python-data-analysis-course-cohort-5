{
 "cells": [
  {
   "cell_type": "markdown",
   "metadata": {},
   "source": [
    "# WEEK 8: ADVANCED FILTERING IN PYTHON - PART 1\n",
    "## Topic: Complex Boolean Logic for Customer Retention Analysis\n",
    "## Business Case: Identifying At-Risk Customers in E-Commerce\n",
    "\n",
    "---\n",
    "\n",
    "### LEARNING OBJECTIVES:\n",
    "1. Master complex boolean filtering with multiple conditions\n",
    "2. Use `&` and `|` operators (equivalent to SQL AND/OR)\n",
    "3. Apply `.isin()` method (equivalent to SQL IN)\n",
    "4. Use `~` operator for NOT logic (equivalent to SQL NOT)\n",
    "5. Handle NaN values in complex conditions\n",
    "6. Combine conditions with proper parentheses\n",
    "\n",
    "### BUSINESS CONTEXT:\n",
    "As a data analyst for Olist (Brazilian e-commerce marketplace), you've been tasked with identifying at-risk customers who may churn. Your analysis will help the marketing team design targeted retention campaigns.\n",
    "\n",
    "### FROM EXCEL TO PYTHON:\n",
    "- Excel Multiple Filters → Python boolean indexing with `&`/`|`\n",
    "- Excel \"Filter by List\" → Python `.isin()` method\n",
    "- Excel \"Between\" custom filter → Python comparison operators\n",
    "- Excel \"Blanks\" filter → Python `.isna()` / `.notna()`"
   ]
  },
  {
   "cell_type": "code",
   "execution_count": null,
   "metadata": {},
   "outputs": [],
   "source": [
    "# Import required libraries\n",
    "import pandas as pd\n",
    "import numpy as np\n",
    "from datetime import datetime, timedelta\n",
    "import warnings\n",
    "warnings.filterwarnings('ignore')\n",
    "\n",
    "print(\"Libraries imported successfully!\")\n",
    "print(f\"Pandas version: {pd.__version__}\")\n",
    "print(f\"NumPy version: {np.__version__}\")"
   ]
  },
  {
   "cell_type": "markdown",
   "metadata": {},
   "source": [
    "## Section 1: Loading Data\n",
    "\n",
    "For this lesson, we'll work with the Olist e-commerce dataset. In a real scenario, you'd load from a database or CSV files."
   ]
  },
  {
   "cell_type": "code",
   "execution_count": null,
   "metadata": {},
   "outputs": [],
   "source": [
    "# NOTE: Update these paths to match your local data location\n",
    "# Or connect to database using SQLAlchemy\n",
    "\n",
    "# Example: Load from CSV (adjust paths as needed)\n",
    "# customers = pd.read_csv('path/to/olist_customers_dataset.csv')\n",
    "# orders = pd.read_csv('path/to/olist_orders_dataset.csv')\n",
    "# order_items = pd.read_csv('path/to/olist_order_items_dataset.csv')\n",
    "# reviews = pd.read_csv('path/to/olist_order_reviews_dataset.csv')\n",
    "# payments = pd.read_csv('path/to/olist_order_payments_dataset.csv')\n",
    "\n",
    "# For demonstration, we'll create sample data\n",
    "# In your exercises, you'll use the actual dataset\n",
    "\n",
    "# Sample customers data\n",
    "customers = pd.DataFrame({\n",
    "    'customer_id': ['c1', 'c2', 'c3', 'c4', 'c5', 'c6', 'c7', 'c8'],\n",
    "    'customer_unique_id': ['cu1', 'cu2', 'cu3', 'cu4', 'cu5', 'cu6', 'cu7', 'cu8'],\n",
    "    'customer_state': ['SP', 'RJ', 'MG', 'BA', 'SP', 'PE', 'SP', 'RJ'],\n",
    "    'customer_city': ['Sao Paulo', 'Rio de Janeiro', 'Belo Horizonte', 'Salvador', \n",
    "                      'Campinas', 'Recife', 'Santos', 'Niteroi']\n",
    "})\n",
    "\n",
    "# Sample orders data\n",
    "orders = pd.DataFrame({\n",
    "    'order_id': ['o1', 'o2', 'o3', 'o4', 'o5', 'o6', 'o7', 'o8'],\n",
    "    'customer_id': ['c1', 'c2', 'c3', 'c4', 'c5', 'c1', 'c6', 'c2'],\n",
    "    'order_status': ['delivered', 'delivered', 'canceled', 'delivered', 'delivered', \n",
    "                     'delivered', 'delivered', 'shipped'],\n",
    "    'order_purchase_timestamp': pd.to_datetime([\n",
    "        '2018-01-15', '2018-02-20', '2018-03-10', '2018-04-05',\n",
    "        '2017-12-01', '2017-10-15', '2018-05-20', '2018-06-15'\n",
    "    ])\n",
    "})\n",
    "\n",
    "# Sample order items data\n",
    "order_items = pd.DataFrame({\n",
    "    'order_id': ['o1', 'o2', 'o3', 'o4', 'o5', 'o6', 'o7', 'o8'],\n",
    "    'product_id': ['p1', 'p2', 'p3', 'p4', 'p5', 'p6', 'p7', 'p8'],\n",
    "    'price': [150.50, 220.00, 89.90, 350.00, 125.00, 420.00, 95.50, 180.00],\n",
    "    'freight_value': [20.50, 35.00, 15.00, 45.00, 18.00, 55.00, 12.00, 25.00]\n",
    "})\n",
    "\n",
    "# Sample reviews data\n",
    "reviews = pd.DataFrame({\n",
    "    'review_id': ['r1', 'r2', 'r3', 'r4', 'r5', 'r6'],\n",
    "    'order_id': ['o1', 'o2', 'o4', 'o5', 'o6', 'o7'],\n",
    "    'review_score': [5, 2, 4, 3, 1, 5],\n",
    "    'review_comment_message': ['Great!', 'Terrible service', None, 'OK', 'Bad product', None]\n",
    "})\n",
    "\n",
    "# Sample payments data\n",
    "payments = pd.DataFrame({\n",
    "    'order_id': ['o1', 'o2', 'o3', 'o4', 'o5', 'o6', 'o7', 'o8'],\n",
    "    'payment_type': ['credit_card', 'boleto', 'credit_card', 'voucher', \n",
    "                     'credit_card', 'credit_card', 'boleto', 'credit_card'],\n",
    "    'payment_value': [171.00, 255.00, 104.90, 395.00, 143.00, 475.00, 107.50, 205.00],\n",
    "    'payment_installments': [3, 1, 2, 1, 2, 12, 1, 4]\n",
    "})\n",
    "\n",
    "print(\"Data loaded successfully!\")\n",
    "print(f\"\\nCustomers: {len(customers)} rows\")\n",
    "print(f\"Orders: {len(orders)} rows\")\n",
    "print(f\"Order Items: {len(order_items)} rows\")\n",
    "print(f\"Reviews: {len(reviews)} rows\")\n",
    "print(f\"Payments: {len(payments)} rows\")"
   ]
  },
  {
   "cell_type": "markdown",
   "metadata": {},
   "source": [
    "## Section 2: Review - Basic Filtering\n",
    "\n",
    "Let's start with simple filtering, similar to SQL WHERE clauses."
   ]
  },
  {
   "cell_type": "code",
   "execution_count": null,
   "metadata": {},
   "outputs": [],
   "source": [
    "# Simple condition: Find all customers from São Paulo (SP)\n",
    "sp_customers = customers[customers['customer_state'] == 'SP']\n",
    "print(\"Customers from São Paulo:\")\n",
    "print(sp_customers)\n",
    "print(f\"\\nTotal: {len(sp_customers)} customers\")"
   ]
  },
  {
   "cell_type": "code",
   "execution_count": null,
   "metadata": {},
   "outputs": [],
   "source": [
    "# Combine with join: Find delivered orders from São Paulo customers\n",
    "sp_delivered_orders = orders.merge(customers, on='customer_id') \\\n",
    "    [(orders.merge(customers, on='customer_id')['customer_state'] == 'SP') & \n",
    "     (orders.merge(customers, on='customer_id')['order_status'] == 'delivered')]\n",
    "\n",
    "# Better approach: Create merged dataframe first\n",
    "orders_with_customers = orders.merge(customers, on='customer_id')\n",
    "sp_delivered = orders_with_customers[\n",
    "    (orders_with_customers['customer_state'] == 'SP') & \n",
    "    (orders_with_customers['order_status'] == 'delivered')\n",
    "]\n",
    "\n",
    "print(\"Delivered orders from São Paulo customers:\")\n",
    "print(sp_delivered[['order_id', 'customer_id', 'customer_state', 'order_status']].head(10))"
   ]
  },
  {
   "cell_type": "markdown",
   "metadata": {},
   "source": [
    "## Section 3: The `.isin()` Method - Equivalent to SQL IN\n",
    "\n",
    "### BAD PRACTICE: Multiple OR conditions\n",
    "### BEST PRACTICE: Using `.isin()` method"
   ]
  },
  {
   "cell_type": "code",
   "execution_count": null,
   "metadata": {},
   "outputs": [],
   "source": [
    "# BAD PRACTICE: Multiple OR conditions (verbose and error-prone)\n",
    "southeast_bad = customers[\n",
    "    (customers['customer_state'] == 'SP') |\n",
    "    (customers['customer_state'] == 'RJ') |\n",
    "    (customers['customer_state'] == 'MG')\n",
    "]\n",
    "\n",
    "print(\"BAD approach - Multiple OR conditions:\")\n",
    "print(southeast_bad)\n",
    "print(\"\\n\" + \"=\"*60 + \"\\n\")"
   ]
  },
  {
   "cell_type": "code",
   "execution_count": null,
   "metadata": {},
   "outputs": [],
   "source": [
    "# BEST PRACTICE: Using .isin() method (clean and maintainable)\n",
    "southeast_states = ['SP', 'RJ', 'MG']\n",
    "southeast_good = customers[customers['customer_state'].isin(southeast_states)]\n",
    "\n",
    "print(\"BEST PRACTICE - Using .isin():\")\n",
    "print(southeast_good)\n",
    "print(f\"\\nTotal: {len(southeast_good)} customers from Southeast region\")"
   ]
  },
  {
   "cell_type": "markdown",
   "metadata": {},
   "source": [
    "### Business Example: Focus on Top Revenue States"
   ]
  },
  {
   "cell_type": "code",
   "execution_count": null,
   "metadata": {},
   "outputs": [],
   "source": [
    "# Find customers from high-value states for targeted campaigns\n",
    "high_value_states = ['SP', 'RJ', 'MG', 'RS', 'PR']\n",
    "\n",
    "high_value_customers = customers[customers['customer_state'].isin(high_value_states)]\n",
    "\n",
    "# Count customers by state\n",
    "state_counts = high_value_customers.groupby('customer_state')['customer_unique_id'].count() \\\n",
    "    .sort_values(ascending=False)\n",
    "\n",
    "print(\"Customer distribution in high-value states:\")\n",
    "print(state_counts)\n",
    "print(f\"\\nTotal high-value state customers: {len(high_value_customers)}\")\n",
    "print(f\"Percentage of total: {len(high_value_customers)/len(customers)*100:.1f}%\")"
   ]
  },
  {
   "cell_type": "markdown",
   "metadata": {},
   "source": [
    "## Section 4: NOT IN - Using the `~` Operator\n",
    "\n",
    "The `~` operator negates a boolean condition (equivalent to SQL NOT)"
   ]
  },
  {
   "cell_type": "code",
   "execution_count": null,
   "metadata": {},
   "outputs": [],
   "source": [
    "# Find customers NOT from the Southeast region\n",
    "southeast_states = ['SP', 'RJ', 'MG', 'ES']\n",
    "non_southeast = customers[~customers['customer_state'].isin(southeast_states)]\n",
    "\n",
    "print(\"Customers NOT from Southeast region:\")\n",
    "print(non_southeast)\n",
    "print(f\"\\nTotal: {len(non_southeast)} customers\")\n",
    "\n",
    "# Count by state\n",
    "non_southeast_counts = non_southeast.groupby('customer_state').size() \\\n",
    "    .sort_values(ascending=False)\n",
    "print(\"\\nDistribution:\")\n",
    "print(non_southeast_counts)"
   ]
  },
  {
   "cell_type": "markdown",
   "metadata": {},
   "source": [
    "### Business Example: Analyze Non-Delivered Orders (Potential Issues)"
   ]
  },
  {
   "cell_type": "code",
   "execution_count": null,
   "metadata": {},
   "outputs": [],
   "source": [
    "# Find orders that are NOT delivered or shipped (potential problems)\n",
    "successful_statuses = ['delivered', 'shipped']\n",
    "problem_orders = orders[~orders['order_status'].isin(successful_statuses)]\n",
    "\n",
    "print(\"Problem orders (not delivered/shipped):\")\n",
    "print(problem_orders)\n",
    "\n",
    "# Calculate percentages\n",
    "status_counts = orders['order_status'].value_counts()\n",
    "status_pct = (status_counts / len(orders) * 100).round(2)\n",
    "\n",
    "print(\"\\nOrder status distribution:\")\n",
    "status_df = pd.DataFrame({\n",
    "    'Count': status_counts,\n",
    "    'Percentage': status_pct\n",
    "})\n",
    "print(status_df)"
   ]
  },
  {
   "cell_type": "markdown",
   "metadata": {},
   "source": [
    "## Section 5: Range Filtering - Equivalent to SQL BETWEEN\n",
    "\n",
    "Python uses comparison operators: `>=`, `<=`, `>`, `<`"
   ]
  },
  {
   "cell_type": "code",
   "execution_count": null,
   "metadata": {},
   "outputs": [],
   "source": [
    "# Find order items with medium-value transactions (R$ 100 - R$ 300)\n",
    "order_items['total_value'] = order_items['price'] + order_items['freight_value']\n",
    "\n",
    "medium_value_orders = order_items[\n",
    "    (order_items['total_value'] >= 100) & \n",
    "    (order_items['total_value'] <= 300)\n",
    "]\n",
    "\n",
    "print(\"Medium-value order items (R$ 100-300):\")\n",
    "print(medium_value_orders.sort_values('total_value', ascending=False))\n",
    "print(f\"\\nTotal: {len(medium_value_orders)} order items\")"
   ]
  },
  {
   "cell_type": "markdown",
   "metadata": {},
   "source": [
    "### Using `.between()` Method (Alternative Approach)"
   ]
  },
  {
   "cell_type": "code",
   "execution_count": null,
   "metadata": {},
   "outputs": [],
   "source": [
    "# Alternative: Use .between() method (more readable)\n",
    "medium_value_orders_v2 = order_items[\n",
    "    order_items['total_value'].between(100, 300, inclusive='both')\n",
    "]\n",
    "\n",
    "print(\"Using .between() method:\")\n",
    "print(medium_value_orders_v2.sort_values('total_value', ascending=False))\n",
    "\n",
    "# Verify both methods give same result\n",
    "print(f\"\\nBoth methods match: {len(medium_value_orders) == len(medium_value_orders_v2)}\")"
   ]
  },
  {
   "cell_type": "markdown",
   "metadata": {},
   "source": [
    "### Date Range Filtering"
   ]
  },
  {
   "cell_type": "code",
   "execution_count": null,
   "metadata": {},
   "outputs": [],
   "source": [
    "# Find recent orders (Q4 2017: Oct-Dec 2017)\n",
    "start_date = pd.to_datetime('2017-10-01')\n",
    "end_date = pd.to_datetime('2017-12-31')\n",
    "\n",
    "q4_2017_orders = orders[\n",
    "    (orders['order_purchase_timestamp'] >= start_date) &\n",
    "    (orders['order_purchase_timestamp'] <= end_date)\n",
    "]\n",
    "\n",
    "print(\"Orders in Q4 2017:\")\n",
    "print(q4_2017_orders.sort_values('order_purchase_timestamp', ascending=False))\n",
    "print(f\"\\nTotal: {len(q4_2017_orders)} orders\")"
   ]
  },
  {
   "cell_type": "markdown",
   "metadata": {},
   "source": [
    "## Section 6: Complex AND/OR Logic\n",
    "\n",
    "### CRITICAL: Always use parentheses with `&` and `|` operators!\n",
    "\n",
    "**Operator Precedence:**\n",
    "- `&` (AND) takes precedence over `|` (OR)\n",
    "- Always use parentheses to control evaluation order\n",
    "- Each condition MUST be in parentheses"
   ]
  },
  {
   "cell_type": "code",
   "execution_count": null,
   "metadata": {},
   "outputs": [],
   "source": [
    "# WITHOUT PARENTHESES (WRONG! - Will cause error)\n",
    "# This will fail:\n",
    "# wrong_filter = payments[payments['payment_type'] == 'credit_card' & payments['payment_value'] > 200]\n",
    "\n",
    "print(\"⚠️ Without parentheses causes errors or unexpected results!\")\n",
    "print(\"Always wrap EACH condition in parentheses.\\n\")"
   ]
  },
  {
   "cell_type": "code",
   "execution_count": null,
   "metadata": {},
   "outputs": [],
   "source": [
    "# CORRECT: WITH PARENTHESES\n",
    "credit_high_value = payments[\n",
    "    (payments['payment_type'] == 'credit_card') & \n",
    "    ((payments['payment_value'] > 200) | (payments['payment_installments'] >= 10))\n",
    "]\n",
    "\n",
    "print(\"Credit card payments with (high value OR many installments):\")\n",
    "print(credit_high_value)\n",
    "print(f\"\\nLogic: Credit card AND (value > 200 OR installments >= 10)\")"
   ]
  },
  {
   "cell_type": "markdown",
   "metadata": {},
   "source": [
    "### Business Example: At-Risk Customer Indicators"
   ]
  },
  {
   "cell_type": "code",
   "execution_count": null,
   "metadata": {},
   "outputs": [],
   "source": [
    "# Identify at-risk customers: low review scores OR no reviews AND high order value\n",
    "# First, merge data\n",
    "orders_with_reviews = orders.merge(reviews, on='order_id', how='left')\n",
    "orders_full = orders_with_reviews.merge(order_items, on='order_id')\n",
    "orders_full['order_value'] = orders_full['price'] + orders_full['freight_value']\n",
    "\n",
    "# Define at-risk conditions\n",
    "at_risk_orders = orders_full[\n",
    "    (orders_full['order_status'] == 'delivered') &\n",
    "    (\n",
    "        (orders_full['review_score'] <= 2) |  # Low satisfaction\n",
    "        (orders_full['review_score'].isna())    # No feedback (disengaged?)\n",
    "    ) &\n",
    "    (orders_full['order_value'] > 150)  # High-value orders only\n",
    "]\n",
    "\n",
    "print(\"At-risk high-value orders:\")\n",
    "print(at_risk_orders[['order_id', 'customer_id', 'order_value', 'review_score', 'order_status']])\n",
    "print(f\"\\nTotal: {len(at_risk_orders)} at-risk orders\")\n",
    "print(f\"Total value at risk: R$ {at_risk_orders['order_value'].sum():.2f}\")"
   ]
  },
  {
   "cell_type": "markdown",
   "metadata": {},
   "source": [
    "## Section 7: Handling NULL/NaN Values in Complex Conditions\n",
    "\n",
    "### NULL Complications:\n",
    "- NaN in comparisons returns False (not True or False)\n",
    "- Always use `.isna()` or `.notna()` explicitly\n",
    "- Use `.fillna()` to provide default values"
   ]
  },
  {
   "cell_type": "code",
   "execution_count": null,
   "metadata": {},
   "outputs": [],
   "source": [
    "# Check for reviews with and without comments\n",
    "print(\"Review comment status:\")\n",
    "print(f\"Total reviews: {len(reviews)}\")\n",
    "print(f\"Reviews with comments: {reviews['review_comment_message'].notna().sum()}\")\n",
    "print(f\"Reviews without comments: {reviews['review_comment_message'].isna().sum()}\")\n",
    "\n",
    "# Count by score\n",
    "review_summary = reviews.groupby('review_score').agg({\n",
    "    'review_id': 'count',\n",
    "    'review_comment_message': lambda x: x.notna().sum()\n",
    "}).rename(columns={\n",
    "    'review_id': 'total_reviews',\n",
    "    'review_comment_message': 'reviews_with_comments'\n",
    "})\n",
    "review_summary['reviews_without_comments'] = \\\n",
    "    review_summary['total_reviews'] - review_summary['reviews_with_comments']\n",
    "\n",
    "print(\"\\nReview breakdown by score:\")\n",
    "print(review_summary)"
   ]
  },
  {
   "cell_type": "markdown",
   "metadata": {},
   "source": [
    "### Filtering with NULL Handling"
   ]
  },
  {
   "cell_type": "code",
   "execution_count": null,
   "metadata": {},
   "outputs": [],
   "source": [
    "# Find low-rated reviews WITHOUT comments (missed opportunity for feedback)\n",
    "low_score_no_comment = reviews[\n",
    "    (reviews['review_score'] <= 2) &\n",
    "    (reviews['review_comment_message'].isna())\n",
    "]\n",
    "\n",
    "print(\"Low-rated reviews without comments:\")\n",
    "print(low_score_no_comment)\n",
    "print(\"\\n⚠️ These customers are unhappy but didn't tell us why!\")"
   ]
  },
  {
   "cell_type": "code",
   "execution_count": null,
   "metadata": {},
   "outputs": [],
   "source": [
    "# Find low-rated reviews WITH comments (actionable feedback)\n",
    "low_score_with_comment = reviews[\n",
    "    (reviews['review_score'] <= 2) &\n",
    "    (reviews['review_comment_message'].notna())\n",
    "]\n",
    "\n",
    "print(\"Low-rated reviews with comments (actionable):\")\n",
    "print(low_score_with_comment)\n",
    "print(\"\\n✅ These reviews provide specific improvement opportunities!\")"
   ]
  },
  {
   "cell_type": "markdown",
   "metadata": {},
   "source": [
    "## Section 8: Comprehensive Business Case - At-Risk Customer Identification\n",
    "\n",
    "### RETENTION RISK FACTORS:\n",
    "1. Low review scores (1-2 stars) = Dissatisfied\n",
    "2. High-value customers = Critical to retain\n",
    "3. Recent purchases = Active but potentially volatile\n",
    "4. No review submitted = Disengaged\n",
    "\n",
    "### GOAL: Create a filtered list of at-risk VIP customers"
   ]
  },
  {
   "cell_type": "code",
   "execution_count": null,
   "metadata": {},
   "outputs": [],
   "source": [
    "# Build comprehensive customer profile\n",
    "# Step 1: Calculate customer metrics\n",
    "customer_orders = orders.merge(customers, on='customer_id')\n",
    "customer_orders = customer_orders.merge(order_items, on='order_id')\n",
    "customer_orders = customer_orders.merge(reviews, on='order_id', how='left')\n",
    "\n",
    "# Calculate lifetime value and metrics\n",
    "customer_orders['order_value'] = customer_orders['price'] + customer_orders['freight_value']\n",
    "\n",
    "customer_metrics = customer_orders[\n",
    "    customer_orders['order_status'] == 'delivered'\n",
    "].groupby('customer_unique_id').agg({\n",
    "    'order_id': 'count',\n",
    "    'order_value': 'sum',\n",
    "    'review_score': ['mean', 'min'],\n",
    "    'order_purchase_timestamp': 'max',\n",
    "    'customer_state': 'first',\n",
    "    'customer_city': 'first'\n",
    "}).reset_index()\n",
    "\n",
    "# Flatten column names\n",
    "customer_metrics.columns = ['customer_unique_id', 'total_orders', 'lifetime_value', \n",
    "                            'avg_review_score', 'lowest_review_score', \n",
    "                            'last_order_date', 'customer_state', 'customer_city']\n",
    "\n",
    "print(\"Customer metrics calculated:\")\n",
    "print(customer_metrics.head())"
   ]
  },
  {
   "cell_type": "code",
   "execution_count": null,
   "metadata": {},
   "outputs": [],
   "source": [
    "# Step 2: Calculate days since last order\n",
    "reference_date = pd.to_datetime('2018-09-01')\n",
    "customer_metrics['days_since_last_order'] = \\\n",
    "    (reference_date - customer_metrics['last_order_date']).dt.days\n",
    "\n",
    "# Step 3: Create risk category\n",
    "def categorize_risk(row):\n",
    "    if row['avg_review_score'] < 3:\n",
    "        return 'High Risk'\n",
    "    elif row['avg_review_score'] < 4:\n",
    "        return 'Medium Risk'\n",
    "    else:\n",
    "        return 'Low Risk'\n",
    "\n",
    "customer_metrics['risk_category'] = customer_metrics.apply(categorize_risk, axis=1)\n",
    "\n",
    "print(\"\\nEnriched customer metrics:\")\n",
    "print(customer_metrics)"
   ]
  },
  {
   "cell_type": "code",
   "execution_count": null,
   "metadata": {},
   "outputs": [],
   "source": [
    "# Step 4: Filter at-risk VIP customers\n",
    "at_risk_vips = customer_metrics[\n",
    "    (customer_metrics['lifetime_value'] > 200) &  # High-value customers\n",
    "    (customer_metrics['total_orders'] >= 1) &\n",
    "    (\n",
    "        (customer_metrics['avg_review_score'] < 4) |  # Not fully satisfied\n",
    "        (customer_metrics['lowest_review_score'] <= 2) |  # Had bad experience\n",
    "        (customer_metrics['days_since_last_order'].between(60, 180))  # Recent but not current\n",
    "    )\n",
    "].sort_values(['risk_category', 'lifetime_value'], ascending=[True, False])\n",
    "\n",
    "print(\"\\n\" + \"=\"*80)\n",
    "print(\"AT-RISK VIP CUSTOMERS - RETENTION CAMPAIGN TARGETS\")\n",
    "print(\"=\"*80)\n",
    "print(at_risk_vips)\n",
    "print(f\"\\nTotal at-risk VIPs: {len(at_risk_vips)}\")\n",
    "print(f\"Total revenue at risk: R$ {at_risk_vips['lifetime_value'].sum():.2f}\")\n",
    "print(f\"Average customer value: R$ {at_risk_vips['lifetime_value'].mean():.2f}\")"
   ]
  },
  {
   "cell_type": "markdown",
   "metadata": {},
   "source": [
    "## Key Takeaways\n",
    "\n",
    "### 1. `.isin()` Method\n",
    "- Clean way to filter multiple values (equivalent to SQL IN)\n",
    "- More readable than multiple OR conditions\n",
    "\n",
    "### 2. `~` Operator (NOT)\n",
    "- Negates boolean conditions\n",
    "- Use with `.isin()` for NOT IN functionality\n",
    "\n",
    "### 3. Range Filtering\n",
    "- Use `>=` and `<=` for inclusive ranges\n",
    "- Or use `.between()` method for cleaner code\n",
    "\n",
    "### 4. Complex Boolean Logic\n",
    "- **ALWAYS use parentheses** around each condition\n",
    "- `&` for AND, `|` for OR\n",
    "- Control evaluation order with parentheses\n",
    "\n",
    "### 5. NULL/NaN Handling\n",
    "- Use `.isna()` and `.notna()` explicitly\n",
    "- Never use `== None` or `!= None`\n",
    "- Consider `.fillna()` for default values\n",
    "\n",
    "### 6. Business Value\n",
    "- Layer multiple conditions to create meaningful segments\n",
    "- Combine metrics (value, behavior, satisfaction) for holistic view\n",
    "- Prioritize by business impact (revenue at risk, customer lifetime value)\n",
    "\n",
    "---\n",
    "\n",
    "## Next Steps\n",
    "\n",
    "In **Part 2**, we'll learn about the `.query()` method - a SQL-like way to write filters in Python that's even more readable for complex conditions!\n",
    "\n",
    "In **Part 3**, we'll cover performance optimization techniques to make these filtering operations faster on large datasets."
   ]
  },
  {
   "cell_type": "markdown",
   "metadata": {},
   "source": [
    "## Practice Exercises\n",
    "\n",
    "Try these yourself before checking the solutions!\n",
    "\n",
    "**Q1:** Find all payments made with 'boleto' or 'voucher' where the payment value is between R$ 50 and R$ 150.\n",
    "\n",
    "**Q2:** Identify customers from Northeast states ('BA', 'PE', 'CE') who have placed more than one order.\n",
    "\n",
    "**Q3:** Find reviews with scores of 1 or 2 WHERE the customer left a comment.\n",
    "\n",
    "**Q4:** Create a list of dormant high-value customers: those who spent over R$ 300 total but haven't ordered in 200+ days.\n",
    "\n",
    "*Solutions will be provided in the solutions notebook!*"
   ]
  }
 ],
 "metadata": {
  "kernelspec": {
   "display_name": "Python 3",
   "language": "python",
   "name": "python3"
  },
  "language_info": {
   "codemirror_mode": {
    "name": "ipython",
    "version": 3
   },
   "file_extension": ".py",
   "mimetype": "text/x-python",
   "name": "python",
   "nbconvert_exporter": "python",
   "pygments_lexer": "ipython3",
   "version": "3.8.0"
  }
 },
 "nbformat": 4,
 "nbformat_minor": 4
}

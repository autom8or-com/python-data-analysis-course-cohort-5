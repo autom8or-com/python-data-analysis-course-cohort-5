{
 "cells": [
  {
   "cell_type": "markdown",
   "metadata": {},
   "source": [
    "# Week 7: Pandas Merging & Joining - Practice Exercises\n",
    "**PORA Academy Cohort 5 - Phase 2**  \n",
    "**Topic**: Joining Data Sources with Pandas  \n",
    "**Duration**: Complete all exercises for homework\n",
    "\n",
    "---"
   ]
  },
  {
   "cell_type": "markdown",
   "metadata": {},
   "source": [
    "## Setup Instructions\n",
    "\n",
    "Run this cell first to load all required datasets."
   ]
  },
  {
   "cell_type": "code",
   "execution_count": null,
   "metadata": {},
   "outputs": [],
   "source": [
    "import pandas as pd\n",
    "import numpy as np\n",
    "\n",
    "# Load datasets\n",
    "customers = pd.read_csv('../lecture-materials/datasets/customers.csv')\n",
    "orders = pd.read_csv('../lecture-materials/datasets/orders.csv')\n",
    "order_items = pd.read_csv('../lecture-materials/datasets/order_items.csv')\n",
    "products = pd.read_csv('../lecture-materials/datasets/products.csv')\n",
    "sellers = pd.read_csv('../lecture-materials/datasets/sellers.csv')\n",
    "reviews = pd.read_csv('../lecture-materials/datasets/order_reviews.csv')\n",
    "payments = pd.read_csv('../lecture-materials/datasets/order_payments.csv')\n",
    "\n",
    "# Convert dates\n",
    "orders['order_purchase_timestamp'] = pd.to_datetime(orders['order_purchase_timestamp'])\n",
    "orders['order_delivered_customer_date'] = pd.to_datetime(orders['order_delivered_customer_date'])\n",
    "reviews['review_creation_date'] = pd.to_datetime(reviews['review_creation_date'])\n",
    "\n",
    "print(\"Data loaded successfully!\")\n",
    "print(f\"Customers: {len(customers)} rows\")\n",
    "print(f\"Orders: {len(orders)} rows\")\n",
    "print(f\"Order items: {len(order_items)} rows\")"
   ]
  },
  {
   "cell_type": "markdown",
   "metadata": {},
   "source": [
    "---\n",
    "\n",
    "## Section 1: Basic Inner Merge Exercises\n",
    "\n",
    "### Exercise 1.1: Orders with Customer Information\n",
    "**Business Question**: \"Show me orders from 2017 with customer city and state.\"\n",
    "\n",
    "**Requirements**:\n",
    "- Merge orders with customers using inner merge\n",
    "- Filter for year 2017\n",
    "- Include: order_id, order_purchase_timestamp, customer_city, customer_state\n",
    "- Display first 20 results\n",
    "\n",
    "**Expected output**: DataFrame with 4 columns, 20 rows"
   ]
  },
  {
   "cell_type": "code",
   "execution_count": null,
   "metadata": {},
   "outputs": [],
   "source": [
    "# Your code here\n"
   ]
  },
  {
   "cell_type": "markdown",
   "metadata": {},
   "source": [
    "### Exercise 1.2: Product Orders Analysis\n",
    "**Business Question**: \"What products were ordered? Show categories and prices.\"\n",
    "\n",
    "**Requirements**:\n",
    "- Merge orders, order_items, and products (inner merge)\n",
    "- Filter for delivered orders\n",
    "- Calculate total_cost = price + freight_value\n",
    "- Include: order_id, product_category_name, price, freight_value, total_cost\n",
    "- Display first 30 results\n",
    "\n",
    "**Expected output**: DataFrame with 5 columns"
   ]
  },
  {
   "cell_type": "code",
   "execution_count": null,
   "metadata": {},
   "outputs": [],
   "source": [
    "# Your code here\n"
   ]
  },
  {
   "cell_type": "markdown",
   "metadata": {},
   "source": [
    "### Exercise 1.3: Seller Performance\n",
    "**Business Question**: \"Which sellers from São Paulo (SP) have made sales?\"\n",
    "\n",
    "**Requirements**:\n",
    "- Merge sellers with order_items\n",
    "- Filter for seller_state == 'SP'\n",
    "- Group by seller_id, seller_city, seller_state\n",
    "- Calculate: items_sold (count), total_revenue (sum of price)\n",
    "- Sort by total_revenue descending\n",
    "\n",
    "**Expected output**: DataFrame with seller metrics"
   ]
  },
  {
   "cell_type": "code",
   "execution_count": null,
   "metadata": {},
   "outputs": [],
   "source": [
    "# Your code here\n"
   ]
  },
  {
   "cell_type": "markdown",
   "metadata": {},
   "source": [
    "---\n",
    "\n",
    "## Section 2: Left Merge Exercises\n",
    "\n",
    "### Exercise 2.1: Orders Without Reviews\n",
    "**Business Question**: \"Find delivered orders missing customer reviews.\"\n",
    "\n",
    "**Requirements**:\n",
    "- Use left merge: orders → reviews\n",
    "- Filter for delivered orders\n",
    "- Find where review_id is NaN\n",
    "- Include: order_id, customer_id, order_purchase_timestamp, order_delivered_customer_date\n",
    "- Display first 25 results\n",
    "\n",
    "**Expected output**: DataFrame showing orders without reviews"
   ]
  },
  {
   "cell_type": "code",
   "execution_count": null,
   "metadata": {},
   "outputs": [],
   "source": [
    "# Your code here\n"
   ]
  },
  {
   "cell_type": "markdown",
   "metadata": {},
   "source": [
    "### Exercise 2.2: Product Inventory Check\n",
    "**Business Question**: \"Which products have never been ordered?\"\n",
    "\n",
    "**Requirements**:\n",
    "- Use left merge: products → order_items\n",
    "- Find products where order_id is NaN\n",
    "- Exclude products with NaN category\n",
    "- Include: product_id, product_category_name, product_weight_g\n",
    "- Display first 30 results\n",
    "\n",
    "**Expected output**: DataFrame with never-ordered products"
   ]
  },
  {
   "cell_type": "code",
   "execution_count": null,
   "metadata": {},
   "outputs": [],
   "source": [
    "# Your code here\n"
   ]
  },
  {
   "cell_type": "markdown",
   "metadata": {},
   "source": [
    "### Exercise 2.3: Review Completion Rate\n",
    "**Business Question**: \"Calculate review completion rate by customer state.\"\n",
    "\n",
    "**Requirements**:\n",
    "- Merge customers, orders (inner), reviews (left)\n",
    "- Filter for delivered orders\n",
    "- Group by customer_state\n",
    "- Calculate: total_orders, orders_with_reviews, completion_rate_percentage\n",
    "- Show states with >= 50 orders\n",
    "- Sort by completion_rate descending\n",
    "\n",
    "**Expected output**: DataFrame with completion metrics by state"
   ]
  },
  {
   "cell_type": "code",
   "execution_count": null,
   "metadata": {},
   "outputs": [],
   "source": [
    "# Your code here\n"
   ]
  },
  {
   "cell_type": "markdown",
   "metadata": {},
   "source": [
    "---\n",
    "\n",
    "## Section 3: Multi-DataFrame Merge Exercises\n",
    "\n",
    "### Exercise 3.1: Complete Order Analysis\n",
    "**Business Question**: \"Analyze Rio de Janeiro (RJ) orders with full details.\"\n",
    "\n",
    "**Requirements**:\n",
    "- Merge: customers → orders → order_items → products → sellers\n",
    "- Filter: customer_state == 'RJ' and order_status == 'delivered'\n",
    "- Create column: is_local_seller (True if customer_state == seller_state)\n",
    "- Include: customer_city, order_id, product_category_name, price, seller_state, is_local_seller\n",
    "- Display first 40 results\n",
    "\n",
    "**Expected output**: DataFrame with shipping analysis"
   ]
  },
  {
   "cell_type": "code",
   "execution_count": null,
   "metadata": {},
   "outputs": [],
   "source": [
    "# Your code here\n"
   ]
  },
  {
   "cell_type": "markdown",
   "metadata": {},
   "source": [
    "### Exercise 3.2: Payment Analysis by Category\n",
    "**Business Question**: \"What payment methods are used for each product category?\"\n",
    "\n",
    "**Requirements**:\n",
    "- Merge: products → order_items → orders → payments\n",
    "- Filter for delivered orders\n",
    "- Group by product_category_name and payment_type\n",
    "- Calculate: total_orders (nunique), total_revenue (sum), avg_installments (mean)\n",
    "- Show categories with >= 100 orders\n",
    "- Sort by total_revenue descending\n",
    "\n",
    "**Expected output**: DataFrame with payment preferences"
   ]
  },
  {
   "cell_type": "code",
   "execution_count": null,
   "metadata": {},
   "outputs": [],
   "source": [
    "# Your code here\n"
   ]
  },
  {
   "cell_type": "markdown",
   "metadata": {},
   "source": [
    "### Exercise 3.3: Seller Performance with Reviews\n",
    "**Business Question**: \"Rank sellers by revenue and customer satisfaction.\"\n",
    "\n",
    "**Requirements**:\n",
    "- Merge: sellers → order_items → orders, then left merge reviews\n",
    "- Filter for delivered orders\n",
    "- Group by seller_id, seller_city, seller_state\n",
    "- Calculate: total_orders, total_revenue, avg_review_score\n",
    "- Include sellers with >= 20 orders\n",
    "- Sort by total_revenue descending\n",
    "\n",
    "**Expected output**: DataFrame with seller rankings"
   ]
  },
  {
   "cell_type": "code",
   "execution_count": null,
   "metadata": {},
   "outputs": [],
   "source": [
    "# Your code here\n"
   ]
  },
  {
   "cell_type": "markdown",
   "metadata": {},
   "source": [
    "---\n",
    "\n",
    "## Section 4: Advanced Exercises\n",
    "\n",
    "### Exercise 4.1: Local vs Interstate Shipping\n",
    "**Business Question**: \"Compare local and interstate shipping performance.\"\n",
    "\n",
    "**Requirements**:\n",
    "- Merge: customers → orders → order_items → sellers, then left merge reviews\n",
    "- Create shipping_type: 'Local' if states match, else 'Interstate'\n",
    "- Filter for delivered orders\n",
    "- Group by shipping_type\n",
    "- Calculate: total_orders, total_revenue, avg_freight_cost, avg_review_score\n",
    "\n",
    "**Expected output**: Comparison of shipping types"
   ]
  },
  {
   "cell_type": "code",
   "execution_count": null,
   "metadata": {},
   "outputs": [],
   "source": [
    "# Your code here\n"
   ]
  },
  {
   "cell_type": "markdown",
   "metadata": {},
   "source": [
    "### Exercise 4.2: Product Category Deep Dive\n",
    "**Business Question**: \"Comprehensive report per product category.\"\n",
    "\n",
    "**Requirements**:\n",
    "- Merge: products → order_items → orders → payments (inner) → reviews (left)\n",
    "- Filter: delivered orders, non-NaN categories\n",
    "- Group by product_category_name\n",
    "- Calculate:\n",
    "  * total_orders (nunique on order_id)\n",
    "  * total_items_sold (count)\n",
    "  * total_revenue (sum of price)\n",
    "  * avg_order_value (revenue / orders)\n",
    "  * credit_card_orders (count where payment_type == 'credit_card')\n",
    "  * avg_review_score (mean, handle NaN)\n",
    "- Show top 15 by revenue\n",
    "\n",
    "**Expected output**: Comprehensive category metrics"
   ]
  },
  {
   "cell_type": "code",
   "execution_count": null,
   "metadata": {},
   "outputs": [],
   "source": [
    "# Your code here\n"
   ]
  },
  {
   "cell_type": "markdown",
   "metadata": {},
   "source": [
    "### Exercise 4.3: Customer Segmentation\n",
    "**Business Question**: \"Segment customers by purchase behavior.\"\n",
    "\n",
    "**Requirements**:\n",
    "- Merge: customers → orders → order_items, then left merge reviews\n",
    "- Filter for delivered orders\n",
    "- Group by customer_unique_id and customer_state\n",
    "- Calculate:\n",
    "  * total_orders (count unique)\n",
    "  * total_spent (sum of price)\n",
    "  * avg_review_score (mean)\n",
    "  * customer_segment: 'Loyal' (3+ orders), 'Repeat' (2 orders), 'One-Time' (1 order)\n",
    "- Display top 50 by total_spent\n",
    "\n",
    "**Expected output**: Customer segmentation analysis"
   ]
  },
  {
   "cell_type": "code",
   "execution_count": null,
   "metadata": {},
   "outputs": [],
   "source": [
    "# Your code here\n"
   ]
  },
  {
   "cell_type": "markdown",
   "metadata": {},
   "source": [
    "---\n",
    "\n",
    "## Section 5: Challenge Exercises\n",
    "\n",
    "### Challenge 5.1: Data Quality Report\n",
    "**Business Question**: \"Identify data quality issues across datasets.\"\n",
    "\n",
    "**Requirements**:\n",
    "- Find:\n",
    "  * Orders without payment info (left merge, check NaN)\n",
    "  * Orders without items (left merge, check NaN)\n",
    "  * Delivered orders without reviews (left merge, check NaN)\n",
    "- Create summary DataFrame with columns: issue_type, order_count\n",
    "- Use pd.concat() or multiple analyses\n",
    "\n",
    "**Expected output**: Data quality summary"
   ]
  },
  {
   "cell_type": "code",
   "execution_count": null,
   "metadata": {},
   "outputs": [],
   "source": [
    "# Your code here\n"
   ]
  },
  {
   "cell_type": "markdown",
   "metadata": {},
   "source": [
    "### Challenge 5.2: Same-Day Multiple Orders\n",
    "**Business Question**: \"Find customers who placed multiple orders on the same day.\"\n",
    "\n",
    "**Requirements**:\n",
    "- Create purchase_date from order_purchase_timestamp (date only)\n",
    "- Group by customer_id and purchase_date\n",
    "- Filter groups with count > 1\n",
    "- Show: customer_id, purchase_date, order_count, order_ids (as list)\n",
    "\n",
    "**Hint**: Use `.agg()` with custom functions\n",
    "\n",
    "**Expected output**: Same-day order patterns"
   ]
  },
  {
   "cell_type": "code",
   "execution_count": null,
   "metadata": {},
   "outputs": [],
   "source": [
    "# Your code here\n"
   ]
  },
  {
   "cell_type": "markdown",
   "metadata": {},
   "source": [
    "### Challenge 5.3: Top Customer-Seller Pairs\n",
    "**Business Question**: \"Find most valuable customer-seller relationships.\"\n",
    "\n",
    "**Requirements**:\n",
    "- Merge: customers → orders → order_items → sellers\n",
    "- Filter for delivered orders\n",
    "- Group by customer_unique_id, customer_state, seller_id, seller_state\n",
    "- Calculate: orders_together, total_revenue\n",
    "- Filter pairs with >= 3 orders together\n",
    "- Show top 25 by revenue\n",
    "\n",
    "**Expected output**: Valuable relationship pairs"
   ]
  },
  {
   "cell_type": "code",
   "execution_count": null,
   "metadata": {},
   "outputs": [],
   "source": [
    "# Your code here\n"
   ]
  },
  {
   "cell_type": "markdown",
   "metadata": {},
   "source": [
    "---\n",
    "\n",
    "## Bonus Section\n",
    "\n",
    "### Bonus 1: Monthly Revenue Trend\n",
    "**Business Question**: \"Monthly revenue trends for top 5 categories in 2017.\"\n",
    "\n",
    "**Requirements**:\n",
    "- Extract month from order_purchase_timestamp\n",
    "- Merge: orders → order_items → products\n",
    "- Filter: delivered orders, year 2017\n",
    "- Find top 5 categories by total revenue\n",
    "- Group by month and category\n",
    "- Show monthly revenue for top categories\n",
    "\n",
    "**Hint**: Use pd.to_datetime().dt.to_period('M')"
   ]
  },
  {
   "cell_type": "code",
   "execution_count": null,
   "metadata": {},
   "outputs": [],
   "source": [
    "# Your code here\n"
   ]
  },
  {
   "cell_type": "markdown",
   "metadata": {},
   "source": [
    "### Bonus 2: Merge Indicator Analysis\n",
    "**Business Question**: \"Use merge indicator to find data mismatches.\"\n",
    "\n",
    "**Requirements**:\n",
    "- Outer merge orders and reviews with indicator=True\n",
    "- Analyze _merge column values\n",
    "- Show counts of: both, left_only, right_only\n",
    "- Investigate records that are left_only or right_only\n",
    "\n",
    "**Expected output**: Merge diagnostic report"
   ]
  },
  {
   "cell_type": "code",
   "execution_count": null,
   "metadata": {},
   "outputs": [],
   "source": [
    "# Your code here\n"
   ]
  },
  {
   "cell_type": "markdown",
   "metadata": {},
   "source": [
    "---\n",
    "\n",
    "## Submission Guidelines\n",
    "\n",
    "1. **File Format**: Jupyter Notebook (.ipynb)\n",
    "2. **Naming**: week7_python_solutions_yourname.ipynb\n",
    "3. **Documentation**: Add markdown cells explaining approach\n",
    "4. **Code Quality**: Clean, commented code\n",
    "5. **Output**: Show results for each exercise\n",
    "\n",
    "---\n",
    "\n",
    "## Evaluation Criteria\n",
    "\n",
    "- **Correctness**: Accurate merge operations (40%)\n",
    "- **Merge Type Selection**: Appropriate inner/left/outer (25%)\n",
    "- **Data Handling**: Proper NaN and duplicate management (15%)\n",
    "- **Code Quality**: Readable, efficient pandas code (10%)\n",
    "- **Completeness**: All required columns and calculations (10%)\n",
    "\n",
    "---\n",
    "\n",
    "## Resources\n",
    "\n",
    "- Pandas merge documentation\n",
    "- Lesson plan and notebook examples\n",
    "- Office hours: Tuesday 6-7 PM, Friday 3-4 PM\n",
    "\n",
    "**Good luck! Remember: The key to mastering merges is understanding the relationships between DataFrames and choosing the right merge type for your analysis.**"
   ]
  }
 ],
 "metadata": {
  "kernelspec": {
   "display_name": "Python 3",
   "language": "python",
   "name": "python3"
  },
  "language_info": {
   "codemirror_mode": {
    "name": "ipython",
    "version": 3
   },
   "file_extension": ".py",
   "mimetype": "text/x-python",
   "name": "python",
   "nbconvert_exporter": "python",
   "pygments_lexer": "ipython3",
   "version": "3.8.0"
  }
 },
 "nbformat": 4,
 "nbformat_minor": 4
}

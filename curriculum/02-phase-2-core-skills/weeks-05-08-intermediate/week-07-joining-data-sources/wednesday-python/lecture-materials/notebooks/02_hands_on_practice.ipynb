{
 "cells": [
  {
   "cell_type": "markdown",
   "metadata": {},
   "source": [
    "# Week 7: Hands-On Practice - Joining Data Sources\n",
    "\n",
    "**PORA Academy Cohort 5 - Data Analytics & AI Bootcamp**\n",
    "\n",
    "---\n",
    "\n",
    "## Instructions\n",
    "Work through these exercises to practice pandas merge operations. Each exercise builds on the concepts from the lecture. Try to complete them without looking at the solutions first!\n",
    "\n",
    "## Setup: Load the Data"
   ]
  },
  {
   "cell_type": "code",
   "execution_count": null,
   "metadata": {},
   "outputs": [],
   "source": [
    "import pandas as pd\n",
    "import numpy as np\n",
    "\n",
    "# Load all datasets\n",
    "customers = pd.read_csv('../datasets/customers.csv')\n",
    "orders = pd.read_csv('../datasets/orders.csv')\n",
    "order_items = pd.read_csv('../datasets/order_items.csv')\n",
    "products = pd.read_csv('../datasets/products.csv')\n",
    "sellers = pd.read_csv('../datasets/sellers.csv')\n",
    "reviews = pd.read_csv('../datasets/order_reviews.csv')\n",
    "payments = pd.read_csv('../datasets/order_payments.csv')\n",
    "\n",
    "# Convert date columns\n",
    "orders['order_purchase_timestamp'] = pd.to_datetime(orders['order_purchase_timestamp'])\n",
    "orders['order_delivered_customer_date'] = pd.to_datetime(orders['order_delivered_customer_date'])\n",
    "reviews['review_creation_date'] = pd.to_datetime(reviews['review_creation_date'])\n",
    "\n",
    "print(\"Data loaded successfully!\")\n",
    "print(f\"Customers: {len(customers)} rows\")\n",
    "print(f\"Orders: {len(orders)} rows\")\n",
    "print(f\"Order items: {len(order_items)} rows\")"
   ]
  },
  {
   "cell_type": "markdown",
   "metadata": {},
   "source": [
    "## Exercise 1: Basic Inner Merge\n",
    "\n",
    "**Task**: Merge `orders` with `customers` and show only orders from 'RJ' (Rio de Janeiro) state with customer city information.\n",
    "\n",
    "**Expected output columns**: `order_id`, `customer_id`, `order_status`, `customer_city`, `customer_state`\n",
    "\n",
    "**Hints**:\n",
    "- Use `pd.merge()` with `how='inner'`\n",
    "- Join on `customer_id`\n",
    "- Filter for `customer_state == 'RJ'`"
   ]
  },
  {
   "cell_type": "code",
   "execution_count": null,
   "metadata": {},
   "outputs": [],
   "source": [
    "# Your code here\n"
   ]
  },
  {
   "cell_type": "markdown",
   "metadata": {},
   "source": [
    "## Exercise 2: Left Merge for Data Quality\n",
    "\n",
    "**Task**: Find all products that have NEVER been ordered. \n",
    "\n",
    "**Steps**:\n",
    "1. Perform a left merge of `products` with `order_items` on `product_id`\n",
    "2. Filter for rows where `order_id` is NaN (no orders)\n",
    "3. Display `product_id`, `product_category_name`, and `product_weight_g`\n",
    "\n",
    "**Hints**:\n",
    "- Use `how='left'` to keep all products\n",
    "- Use `.isna()` to find missing order_ids"
   ]
  },
  {
   "cell_type": "code",
   "execution_count": null,
   "metadata": {},
   "outputs": [],
   "source": [
    "# Your code here\n"
   ]
  },
  {
   "cell_type": "markdown",
   "metadata": {},
   "source": [
    "## Exercise 3: Multi-DataFrame Analysis\n",
    "\n",
    "**Task**: Calculate total revenue by seller state.\n",
    "\n",
    "**Steps**:\n",
    "1. Merge `orders` → `order_items` → `sellers`\n",
    "2. Filter for delivered orders only\n",
    "3. Group by `seller_state`\n",
    "4. Calculate total revenue (sum of `price`)\n",
    "5. Sort by revenue descending\n",
    "\n",
    "**Expected columns in result**: `seller_state`, `total_revenue`\n",
    "\n",
    "**Hints**:\n",
    "- Chain merges: `.merge().merge()`\n",
    "- Use `.groupby()` and `.agg()`"
   ]
  },
  {
   "cell_type": "code",
   "execution_count": null,
   "metadata": {},
   "outputs": [],
   "source": [
    "# Your code here\n"
   ]
  },
  {
   "cell_type": "markdown",
   "metadata": {},
   "source": [
    "## Exercise 4: Payment Analysis\n",
    "\n",
    "**Task**: Analyze payment methods for delivered orders.\n",
    "\n",
    "**Steps**:\n",
    "1. Merge `orders` with `payments`\n",
    "2. Filter for delivered orders\n",
    "3. Calculate for each payment type:\n",
    "   - Number of orders\n",
    "   - Total payment value\n",
    "   - Average payment value\n",
    "4. Sort by total payment value descending\n",
    "\n",
    "**Expected output**: Summary by `payment_type`"
   ]
  },
  {
   "cell_type": "code",
   "execution_count": null,
   "metadata": {},
   "outputs": [],
   "source": [
    "# Your code here\n"
   ]
  },
  {
   "cell_type": "markdown",
   "metadata": {},
   "source": [
    "## Exercise 5: Customer Satisfaction Analysis\n",
    "\n",
    "**Task**: Find the average review score for each customer state.\n",
    "\n",
    "**Steps**:\n",
    "1. Merge `customers` → `orders` → `reviews`\n",
    "2. Filter for delivered orders with reviews\n",
    "3. Group by `customer_state`\n",
    "4. Calculate:\n",
    "   - Average review score\n",
    "   - Number of reviews\n",
    "5. Sort by average score descending\n",
    "\n",
    "**Bonus**: Filter to show only states with at least 2 reviews"
   ]
  },
  {
   "cell_type": "code",
   "execution_count": null,
   "metadata": {},
   "outputs": [],
   "source": [
    "# Your code here\n"
   ]
  },
  {
   "cell_type": "markdown",
   "metadata": {},
   "source": [
    "## Exercise 6: Product Category Performance\n",
    "\n",
    "**Task**: Identify the best-selling product categories.\n",
    "\n",
    "**Steps**:\n",
    "1. Merge `products` → `order_items` → `orders`\n",
    "2. Filter for delivered orders\n",
    "3. Group by `product_category_name`\n",
    "4. Calculate:\n",
    "   - Total items sold (count of order_item_id)\n",
    "   - Total revenue (sum of price)\n",
    "   - Average item price\n",
    "5. Sort by total items sold descending"
   ]
  },
  {
   "cell_type": "code",
   "execution_count": null,
   "metadata": {},
   "outputs": [],
   "source": [
    "# Your code here\n"
   ]
  },
  {
   "cell_type": "markdown",
   "metadata": {},
   "source": [
    "## Exercise 7: Complex Join with Multiple Conditions\n",
    "\n",
    "**Task**: Create a comprehensive order summary including customer, seller, product, payment, and review information.\n",
    "\n",
    "**Steps**:\n",
    "1. Start with `orders`\n",
    "2. Merge with `customers` (inner)\n",
    "3. Merge with `order_items` (inner)\n",
    "4. Merge with `products` (inner)\n",
    "5. Merge with `sellers` (inner)\n",
    "6. Merge with `payments` (left - some orders might not have payments)\n",
    "7. Merge with `reviews` (left - some orders might not have reviews)\n",
    "8. Filter for delivered orders\n",
    "9. Select relevant columns and display first 10 rows\n",
    "\n",
    "**Columns to include**: \n",
    "- `order_id`\n",
    "- `customer_state`\n",
    "- `product_category_name`\n",
    "- `seller_state`\n",
    "- `price`\n",
    "- `payment_type`\n",
    "- `review_score`"
   ]
  },
  {
   "cell_type": "code",
   "execution_count": null,
   "metadata": {},
   "outputs": [],
   "source": [
    "# Your code here\n"
   ]
  },
  {
   "cell_type": "markdown",
   "metadata": {},
   "source": [
    "## Exercise 8: Debugging Challenge\n",
    "\n",
    "**Task**: The code below has errors. Find and fix them.\n",
    "\n",
    "```python\n",
    "# This code should show orders with their payment types\n",
    "result = pd.merge(\n",
    "    orders,\n",
    "    payments,\n",
    "    on='customer_id',  # Error 1: Wrong join key\n",
    "    how='right'        # Error 2: Wrong join type (should be 'left' or 'inner')\n",
    ")\n",
    "\n",
    "# Filter for delivered orders\n",
    "delivered = result[result['status'] == 'delivered']  # Error 3: Wrong column name\n",
    "\n",
    "print(delivered[['order_id', 'payment_type']].head())\n",
    "```\n",
    "\n",
    "Fix the code below:"
   ]
  },
  {
   "cell_type": "code",
   "execution_count": null,
   "metadata": {},
   "outputs": [],
   "source": [
    "# Fixed code here\n"
   ]
  },
  {
   "cell_type": "markdown",
   "metadata": {},
   "source": [
    "## Exercise 9: Advanced - Outer Merge Analysis\n",
    "\n",
    "**Task**: Use an outer merge to find data quality issues between orders and payments.\n",
    "\n",
    "**Steps**:\n",
    "1. Perform an outer merge of `orders` and `payments` with `indicator=True`\n",
    "2. Identify:\n",
    "   - Orders without payments (left_only)\n",
    "   - Payments without orders (right_only)\n",
    "   - Orders with payments (both)\n",
    "3. Display counts for each category\n",
    "4. Show examples of each category"
   ]
  },
  {
   "cell_type": "code",
   "execution_count": null,
   "metadata": {},
   "outputs": [],
   "source": [
    "# Your code here\n"
   ]
  },
  {
   "cell_type": "markdown",
   "metadata": {},
   "source": [
    "## Exercise 10: Business Intelligence Challenge\n",
    "\n",
    "**Task**: Answer this business question: \"Which seller state has the highest customer satisfaction (review score) and what's the most popular product category in that state?\"\n",
    "\n",
    "**Steps**:\n",
    "1. Merge all necessary tables\n",
    "2. Calculate average review score by seller_state\n",
    "3. Identify the state with highest score\n",
    "4. For that state, find the most popular product category\n",
    "\n",
    "**Expected output**: \n",
    "- Best seller state\n",
    "- Average review score\n",
    "- Top product category in that state\n",
    "- Number of orders for that category"
   ]
  },
  {
   "cell_type": "code",
   "execution_count": null,
   "metadata": {},
   "outputs": [],
   "source": [
    "# Your code here\n"
   ]
  },
  {
   "cell_type": "markdown",
   "metadata": {},
   "source": [
    "## Bonus Exercise: Create Your Own Analysis\n",
    "\n",
    "**Task**: Come up with your own business question and answer it using pandas merges.\n",
    "\n",
    "Some ideas:\n",
    "- Which customer state spends the most on average per order?\n",
    "- What's the relationship between product weight and shipping cost (freight_value)?\n",
    "- Do certain payment types correlate with higher review scores?\n",
    "- What's the average delivery time by seller state?\n",
    "\n",
    "Write your question and analysis below:"
   ]
  },
  {
   "cell_type": "code",
   "execution_count": null,
   "metadata": {},
   "outputs": [],
   "source": [
    "# Your business question: \n",
    "# \n",
    "\n",
    "# Your analysis code:\n"
   ]
  },
  {
   "cell_type": "markdown",
   "metadata": {},
   "source": [
    "## Summary\n",
    "\n",
    "Great work! You've practiced:\n",
    "- Inner, left, right, and outer merges\n",
    "- Chaining multiple merges\n",
    "- Finding missing data with left merges\n",
    "- Aggregating merged data\n",
    "- Debugging merge issues\n",
    "- Real-world business analysis\n",
    "\n",
    "Remember: Tomorrow's SQL class will cover the same concepts using SQL JOIN syntax!"
   ]
  }
 ],
 "metadata": {
  "kernelspec": {
   "display_name": "Python 3",
   "language": "python",
   "name": "python3"
  },
  "language_info": {
   "codemirror_mode": {
    "name": "ipython",
    "version": 3
   },
   "file_extension": ".py",
   "mimetype": "text/x-python",
   "name": "python",
   "nbconvert_exporter": "python",
   "pygments_lexer": "ipython3",
   "version": "3.8.0"
  }
 },
 "nbformat": 4,
 "nbformat_minor": 4
}

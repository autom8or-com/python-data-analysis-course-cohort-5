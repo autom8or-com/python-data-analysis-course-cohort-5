{
 "cells": [
  {
   "cell_type": "markdown",
   "metadata": {},
   "source": [
    "# Week 7: Joining Data Sources - Pandas Merging & Joining\n",
    "\n",
    "**PORA Academy Cohort 5 - Data Analytics & AI Bootcamp**\n",
    "\n",
    "**Wednesday Python Session - September 24, 2025**\n",
    "\n",
    "---\n",
    "\n",
    "## Learning Objectives\n",
    "By the end of this session, you will be able to:\n",
    "1. Understand why data is split across multiple files (normalization)\n",
    "2. Use `pd.merge()` to combine DataFrames with different join types\n",
    "3. Apply inner, left, right, and outer merges appropriately\n",
    "4. Handle duplicate keys and missing matches in merged data\n",
    "5. Chain multiple merge operations for complex analysis\n",
    "6. Understand the relationship between pandas merge and SQL JOINs\n",
    "\n",
    "## Excel Bridge Concept\n",
    "**Excel Equivalent**: VLOOKUP, INDEX-MATCH, and Power Query merge operations\n",
    "\n",
    "In Excel, you use VLOOKUP to bring data from one table into another. In pandas, we use `merge()` and `join()` functions to combine DataFrames. The concepts are identical to SQL JOINs you'll learn tomorrow!"
   ]
  },
  {
   "cell_type": "markdown",
   "metadata": {},
   "source": [
    "## Part 1: Loading and Understanding Relational Data\n",
    "\n",
    "### Why Data is Split Across Files\n",
    "\n",
    "**Concept**: Instead of one massive Excel file with duplicate information, we split related data into multiple files.\n",
    "\n",
    "**Benefits**:\n",
    "- **No Redundancy**: Customer address appears once, not in every order row\n",
    "- **Easy Updates**: Change customer info in one place\n",
    "- **Better Performance**: Smaller files load faster\n",
    "\n",
    "**Real-World Analogy**: Your phone contacts app doesn't save complete contact info in every message. Messages reference contacts by ID, keeping data separate but connected."
   ]
  },
  {
   "cell_type": "code",
   "execution_count": null,
   "metadata": {},
   "outputs": [],
   "source": [
    "import pandas as pd\n",
    "import numpy as np\n",
    "\n",
    "# Load all datasets\n",
    "customers = pd.read_csv('../datasets/customers.csv')\n",
    "orders = pd.read_csv('../datasets/orders.csv')\n",
    "order_items = pd.read_csv('../datasets/order_items.csv')\n",
    "products = pd.read_csv('../datasets/products.csv')\n",
    "sellers = pd.read_csv('../datasets/sellers.csv')\n",
    "reviews = pd.read_csv('../datasets/order_reviews.csv')\n",
    "payments = pd.read_csv('../datasets/order_payments.csv')\n",
    "\n",
    "# Convert date columns\n",
    "orders['order_purchase_timestamp'] = pd.to_datetime(orders['order_purchase_timestamp'])\n",
    "orders['order_delivered_customer_date'] = pd.to_datetime(orders['order_delivered_customer_date'])\n",
    "reviews['review_creation_date'] = pd.to_datetime(reviews['review_creation_date'])\n",
    "\n",
    "print(\"Datasets loaded successfully!\")\n",
    "print(f\"\\nCustomers shape: {customers.shape}\")\n",
    "print(f\"Orders shape: {orders.shape}\")\n",
    "print(f\"Order items shape: {order_items.shape}\")"
   ]
  },
  {
   "cell_type": "code",
   "execution_count": null,
   "metadata": {},
   "outputs": [],
   "source": [
    "# Explore the structure\n",
    "print(\"Customers columns:\", customers.columns.tolist())\n",
    "print(\"\\nOrders columns:\", orders.columns.tolist())\n",
    "print(\"\\nFirst few customers:\")\n",
    "customers.head()"
   ]
  },
  {
   "cell_type": "code",
   "execution_count": null,
   "metadata": {},
   "outputs": [],
   "source": [
    "print(\"First few orders:\")\n",
    "orders.head()"
   ]
  },
  {
   "cell_type": "markdown",
   "metadata": {},
   "source": [
    "### Understanding Keys\n",
    "- **Primary Key**: Unique identifier for each row (like `customer_id`)\n",
    "- **Foreign Key**: Column that references a primary key in another DataFrame\n",
    "- **Join Column**: The column used to connect DataFrames"
   ]
  },
  {
   "cell_type": "markdown",
   "metadata": {},
   "source": [
    "## Part 2: Inner Merge - The Foundation\n",
    "\n",
    "**Inner Merge**: Returns only rows where keys exist in BOTH DataFrames.\n",
    "\n",
    "**Excel Analogy**: Like VLOOKUP, but only keeps rows where a match is found. No match? Row is excluded.\n",
    "\n",
    "**Visual Representation**:\n",
    "```\n",
    "DataFrame A    DataFrame B     Inner Merge\n",
    "-----------    -----------     -----------\n",
    "  ┌─────┐        ┌─────┐         ┌─────┐\n",
    "  │ A   │   +    │ B   │    =    │ A∩B │  (overlap only)\n",
    "  └─────┘        └─────┘         └─────┘\n",
    "```"
   ]
  },
  {
   "cell_type": "code",
   "execution_count": null,
   "metadata": {},
   "outputs": [],
   "source": [
    "# Basic Inner Merge: Orders with Customer Information\n",
    "# Business Question: \"Show me orders with customer city and state information\"\n",
    "\n",
    "orders_customers = pd.merge(\n",
    "    orders,\n",
    "    customers,\n",
    "    on='customer_id',\n",
    "    how='inner'\n",
    ")\n",
    "\n",
    "# Select relevant columns\n",
    "result = orders_customers[[\n",
    "    'order_id',\n",
    "    'order_purchase_timestamp',\n",
    "    'order_status',\n",
    "    'customer_city',\n",
    "    'customer_state'\n",
    "]]\n",
    "\n",
    "print(f\"Orders before merge: {len(orders)}\")\n",
    "print(f\"Customers before merge: {len(customers)}\")\n",
    "print(f\"Rows after inner merge: {len(orders_customers)}\")\n",
    "print(\"\\nMerged data:\")\n",
    "result.head()"
   ]
  },
  {
   "cell_type": "markdown",
   "metadata": {},
   "source": [
    "### Three-DataFrame Merge\n",
    "\n",
    "**Business Question**: \"What products were purchased in each order?\""
   ]
  },
  {
   "cell_type": "code",
   "execution_count": null,
   "metadata": {},
   "outputs": [],
   "source": [
    "# Step 1: Merge orders with order_items\n",
    "orders_items = pd.merge(\n",
    "    orders,\n",
    "    order_items,\n",
    "    on='order_id',\n",
    "    how='inner'\n",
    ")\n",
    "\n",
    "# Step 2: Merge result with products\n",
    "orders_items_products = pd.merge(\n",
    "    orders_items,\n",
    "    products,\n",
    "    on='product_id',\n",
    "    how='inner'\n",
    ")\n",
    "\n",
    "# Filter and display\n",
    "delivered_orders = orders_items_products[\n",
    "    orders_items_products['order_status'] == 'delivered'\n",
    "]\n",
    "\n",
    "result = delivered_orders[[\n",
    "    'order_id',\n",
    "    'order_purchase_timestamp',\n",
    "    'product_category_name',\n",
    "    'price',\n",
    "    'freight_value'\n",
    "]]\n",
    "\n",
    "print(f\"Delivered orders with product details:\")\n",
    "result.head(10)"
   ]
  },
  {
   "cell_type": "markdown",
   "metadata": {},
   "source": [
    "### Method Chaining Approach\n",
    "\n",
    "More concise way to chain multiple merges:"
   ]
  },
  {
   "cell_type": "code",
   "execution_count": null,
   "metadata": {},
   "outputs": [],
   "source": [
    "# Same result using method chaining\n",
    "result = (orders\n",
    "    .merge(order_items, on='order_id', how='inner')\n",
    "    .merge(products, on='product_id', how='inner')\n",
    "    .query('order_status == \"delivered\"')\n",
    "    [['order_id', 'order_purchase_timestamp', 'product_category_name', 'price', 'freight_value']]\n",
    ")\n",
    "\n",
    "print(\"Method chaining result:\")\n",
    "result.head(10)"
   ]
  },
  {
   "cell_type": "markdown",
   "metadata": {},
   "source": [
    "## Part 3: Left Merge - Keeping All Records\n",
    "\n",
    "**Left Merge**: Returns ALL rows from the left DataFrame and matching rows from the right. If no match, right columns are NaN.\n",
    "\n",
    "**Excel Analogy**: Like VLOOKUP with IFERROR - you keep all original rows, showing blanks (NaN) when no match found.\n",
    "\n",
    "**Visual Representation**:\n",
    "```\n",
    "DataFrame A    DataFrame B     Left Merge\n",
    "-----------    -----------     ----------\n",
    "  ┌─────┐        ┌─────┐       ┌─────┐\n",
    "  │  A  │   +    │ B   │   =   │ All │  (all of A)\n",
    "  └─────┘        └─────┘       │  A  │\n",
    "                               └─────┘\n",
    "```\n",
    "\n",
    "### When to Use Left Merge\n",
    "- All records from the main DataFrame regardless of matches\n",
    "- To identify records WITHOUT matches (using `.isna()`)\n",
    "- To preserve your primary dataset while adding supplementary info"
   ]
  },
  {
   "cell_type": "code",
   "execution_count": null,
   "metadata": {},
   "outputs": [],
   "source": [
    "# Left Merge: All Orders with Optional Reviews\n",
    "# Business Question: \"Show all orders, including those without reviews\"\n",
    "\n",
    "orders_reviews = pd.merge(\n",
    "    orders,\n",
    "    reviews,\n",
    "    on='order_id',\n",
    "    how='left'\n",
    ")\n",
    "\n",
    "# Filter for delivered orders\n",
    "delivered = orders_reviews[orders_reviews['order_status'] == 'delivered']\n",
    "\n",
    "# Add review status column\n",
    "delivered['review_status'] = delivered['review_id'].apply(\n",
    "    lambda x: 'Has Review' if pd.notna(x) else 'No Review'\n",
    ")\n",
    "\n",
    "result = delivered[[\n",
    "    'order_id',\n",
    "    'order_status',\n",
    "    'order_purchase_timestamp',\n",
    "    'review_score',\n",
    "    'review_creation_date',\n",
    "    'review_status'\n",
    "]]\n",
    "\n",
    "print(\"Orders with review status:\")\n",
    "print(result.head(10))\n",
    "print(\"\\nReview completion breakdown:\")\n",
    "print(delivered['review_status'].value_counts())"
   ]
  },
  {
   "cell_type": "markdown",
   "metadata": {},
   "source": [
    "### Finding Missing Data with Left Merge"
   ]
  },
  {
   "cell_type": "code",
   "execution_count": null,
   "metadata": {},
   "outputs": [],
   "source": [
    "# Business Question: \"Which delivered orders have no customer reviews?\"\n",
    "\n",
    "orders_reviews = pd.merge(\n",
    "    orders,\n",
    "    reviews,\n",
    "    on='order_id',\n",
    "    how='left'\n",
    ")\n",
    "\n",
    "# Filter for delivered orders without reviews\n",
    "missing_reviews = orders_reviews[\n",
    "    (orders_reviews['order_status'] == 'delivered') &\n",
    "    (orders_reviews['review_id'].isna())\n",
    "]\n",
    "\n",
    "result = missing_reviews[[\n",
    "    'order_id',\n",
    "    'customer_id',\n",
    "    'order_purchase_timestamp',\n",
    "    'order_delivered_customer_date'\n",
    "]]\n",
    "\n",
    "print(f\"Orders without reviews: {len(missing_reviews)}\")\n",
    "print(\"\\nSample of orders missing reviews:\")\n",
    "result.head()"
   ]
  },
  {
   "cell_type": "markdown",
   "metadata": {},
   "source": [
    "### Data Completeness Analysis"
   ]
  },
  {
   "cell_type": "code",
   "execution_count": null,
   "metadata": {},
   "outputs": [],
   "source": [
    "# Business Question: \"What percentage of delivered orders have reviews?\"\n",
    "\n",
    "orders_reviews = pd.merge(\n",
    "    orders.query('order_status == \"delivered\"'),\n",
    "    reviews,\n",
    "    on='order_id',\n",
    "    how='left'\n",
    ")\n",
    "\n",
    "total_orders = len(orders_reviews)\n",
    "reviewed_orders = orders_reviews['review_id'].notna().sum()\n",
    "completion_rate = (reviewed_orders / total_orders) * 100\n",
    "\n",
    "print(f\"Total delivered orders: {total_orders}\")\n",
    "print(f\"Orders with reviews: {reviewed_orders}\")\n",
    "print(f\"Review completion rate: {completion_rate:.2f}%\")"
   ]
  },
  {
   "cell_type": "markdown",
   "metadata": {},
   "source": [
    "## Part 4: Right and Outer Merges\n",
    "\n",
    "### Right Merge\n",
    "**Right Merge**: Opposite of left merge - keeps all rows from RIGHT DataFrame.\n",
    "\n",
    "**Note**: Less common in practice. You can reverse DataFrames and use left merge instead."
   ]
  },
  {
   "cell_type": "code",
   "execution_count": null,
   "metadata": {},
   "outputs": [],
   "source": [
    "# Right merge example\n",
    "reviews_orders = pd.merge(\n",
    "    orders,\n",
    "    reviews,\n",
    "    on='order_id',\n",
    "    how='right'\n",
    ")\n",
    "\n",
    "print(f\"Right merge result: {len(reviews_orders)} rows\")\n",
    "print(\"\\nSame as reversing and using left merge:\")\n",
    "\n",
    "reviews_orders_alt = pd.merge(\n",
    "    reviews,\n",
    "    orders,\n",
    "    on='order_id',\n",
    "    how='left'\n",
    ")\n",
    "\n",
    "print(f\"Alternative approach: {len(reviews_orders_alt)} rows\")"
   ]
  },
  {
   "cell_type": "markdown",
   "metadata": {},
   "source": [
    "### Outer Merge (Full Outer Join)\n",
    "**Outer Merge**: Returns ALL rows from BOTH DataFrames, with NaN where no match exists.\n",
    "\n",
    "**Use Cases**: Data reconciliation, finding all mismatches"
   ]
  },
  {
   "cell_type": "code",
   "execution_count": null,
   "metadata": {},
   "outputs": [],
   "source": [
    "# Full outer merge: Find all order/review mismatches\n",
    "all_data = pd.merge(\n",
    "    orders,\n",
    "    reviews,\n",
    "    on='order_id',\n",
    "    how='outer',\n",
    "    indicator=True  # Shows merge source\n",
    ")\n",
    "\n",
    "# Find mismatches\n",
    "mismatches = all_data[all_data['_merge'] != 'both']\n",
    "\n",
    "print(\"Merge status breakdown:\")\n",
    "print(all_data['_merge'].value_counts())\n",
    "print(\"\\nMismatches:\")\n",
    "print(mismatches[['order_id', 'order_status', 'review_id', '_merge']].head())"
   ]
  },
  {
   "cell_type": "markdown",
   "metadata": {},
   "source": [
    "## Part 5: Advanced Merge Scenarios\n",
    "\n",
    "### Multi-DataFrame Analysis"
   ]
  },
  {
   "cell_type": "code",
   "execution_count": null,
   "metadata": {},
   "outputs": [],
   "source": [
    "# Business Question: \"Analyze SP (São Paulo) orders: products, payments, and reviews\"\n",
    "\n",
    "sp_analysis = (orders\n",
    "    .merge(customers, on='customer_id', how='inner')\n",
    "    .merge(order_items, on='order_id', how='inner')\n",
    "    .merge(products, on='product_id', how='inner')\n",
    "    .merge(payments, on='order_id', how='left')\n",
    "    .merge(reviews, on='order_id', how='left')\n",
    "    .query('customer_state == \"SP\" and order_status == \"delivered\"')\n",
    ")\n",
    "\n",
    "result = sp_analysis[[\n",
    "    'customer_city',\n",
    "    'order_id',\n",
    "    'product_category_name',\n",
    "    'price',\n",
    "    'payment_type',\n",
    "    'review_score'\n",
    "]]\n",
    "\n",
    "print(\"São Paulo orders analysis:\")\n",
    "result.head(10)"
   ]
  },
  {
   "cell_type": "markdown",
   "metadata": {},
   "source": [
    "### Aggregations with Merged Data"
   ]
  },
  {
   "cell_type": "code",
   "execution_count": null,
   "metadata": {},
   "outputs": [],
   "source": [
    "# Business Question: \"Average review score by product category\"\n",
    "\n",
    "category_reviews = (products\n",
    "    .merge(order_items, on='product_id', how='inner')\n",
    "    .merge(orders, on='order_id', how='inner')\n",
    "    .merge(reviews, on='order_id', how='left')\n",
    "    .query('order_status == \"delivered\" and product_category_name.notna()')\n",
    ")\n",
    "\n",
    "# Group and calculate\n",
    "summary = category_reviews.groupby('product_category_name').agg({\n",
    "    'order_id': 'nunique',\n",
    "    'order_item_id': 'count',\n",
    "    'review_score': 'mean',\n",
    "    'price': 'mean'\n",
    "}).rename(columns={\n",
    "    'order_id': 'total_orders',\n",
    "    'order_item_id': 'total_items',\n",
    "    'review_score': 'avg_review_score',\n",
    "    'price': 'avg_price'\n",
    "}).round(2)\n",
    "\n",
    "# Filter and sort\n",
    "top_categories = summary[summary['total_orders'] >= 1].sort_values('avg_review_score', ascending=False)\n",
    "\n",
    "print(\"Category performance:\")\n",
    "top_categories.head(10)"
   ]
  },
  {
   "cell_type": "markdown",
   "metadata": {},
   "source": [
    "### Handling Duplicate Keys (One-to-Many Relationships)"
   ]
  },
  {
   "cell_type": "code",
   "execution_count": null,
   "metadata": {},
   "outputs": [],
   "source": [
    "# Business Question: \"Orders with multiple items - understanding one-to-many relationships\"\n",
    "\n",
    "orders_with_items = pd.merge(\n",
    "    orders,\n",
    "    order_items,\n",
    "    on='order_id',\n",
    "    how='inner'\n",
    ")\n",
    "\n",
    "print(f\"Original orders: {len(orders)}\")\n",
    "print(f\"After merge: {len(orders_with_items)}\")\n",
    "print(f\"\\nDuplicates created by one-to-many relationship\")\n",
    "\n",
    "# Count items per order\n",
    "items_per_order = orders_with_items.groupby('order_id').size().reset_index(name='item_count')\n",
    "print(\"\\nOrders with multiple items:\")\n",
    "print(items_per_order[items_per_order['item_count'] > 1].head())"
   ]
  },
  {
   "cell_type": "markdown",
   "metadata": {},
   "source": [
    "## Part 6: Common Merge Issues and Solutions\n",
    "\n",
    "### Issue 1: Key Column Name Mismatch"
   ]
  },
  {
   "cell_type": "code",
   "execution_count": null,
   "metadata": {},
   "outputs": [],
   "source": [
    "# Example: Different column names for same key\n",
    "# If orders had 'customer_id' but another df had 'cust_id'\n",
    "\n",
    "# Solution: Use left_on and right_on\n",
    "# result = pd.merge(\n",
    "#     orders,\n",
    "#     other_df,\n",
    "#     left_on='customer_id',\n",
    "#     right_on='cust_id',\n",
    "#     how='inner'\n",
    "# )\n",
    "# result = result.drop('cust_id', axis=1)  # Drop duplicate column\n",
    "\n",
    "print(\"Use left_on and right_on when key column names differ\")"
   ]
  },
  {
   "cell_type": "markdown",
   "metadata": {},
   "source": [
    "### Issue 2: Unexpected Number of Rows"
   ]
  },
  {
   "cell_type": "code",
   "execution_count": null,
   "metadata": {},
   "outputs": [],
   "source": [
    "# Before merge: Check for duplicates in key columns\n",
    "print(\"Duplicate order_ids in orders:\", orders['order_id'].duplicated().sum())\n",
    "print(\"Duplicate order_ids in reviews:\", reviews['order_id'].duplicated().sum())\n",
    "\n",
    "# After merge: Validate\n",
    "merged = pd.merge(orders, order_items, on='order_id', how='inner')\n",
    "print(f\"\\nOrders before merge: {len(orders)}\")\n",
    "print(f\"Rows after merge: {len(merged)}\")\n",
    "print(f\"Ratio: {len(merged) / len(orders):.2f}x\")"
   ]
  },
  {
   "cell_type": "markdown",
   "metadata": {},
   "source": [
    "### Issue 3: NaN Values After Merge"
   ]
  },
  {
   "cell_type": "code",
   "execution_count": null,
   "metadata": {},
   "outputs": [],
   "source": [
    "# Check for NaN values\n",
    "merged = pd.merge(orders, reviews, on='order_id', how='left')\n",
    "\n",
    "print(\"Missing review scores:\")\n",
    "print(merged['review_score'].isna().sum())\n",
    "\n",
    "# Fill NaN with appropriate values\n",
    "merged['review_score_filled'] = merged['review_score'].fillna(0)\n",
    "merged['review_status'] = merged['review_score'].apply(\n",
    "    lambda x: 'Reviewed' if pd.notna(x) else 'Not Reviewed'\n",
    ")\n",
    "\n",
    "print(\"\\nReview status distribution:\")\n",
    "print(merged['review_status'].value_counts())"
   ]
  },
  {
   "cell_type": "markdown",
   "metadata": {},
   "source": [
    "## Comparison: Pandas Merge vs SQL JOIN\n",
    "\n",
    "| pandas | SQL | Purpose |\n",
    "|--------|-----|---------|  \n",
    "| `how='inner'` | INNER JOIN | Only matches |\n",
    "| `how='left'` | LEFT JOIN | All from left |\n",
    "| `how='right'` | RIGHT JOIN | All from right |\n",
    "| `how='outer'` | FULL OUTER JOIN | All from both |\n",
    "| `on='column'` | ON table1.column = table2.column | Join condition |\n",
    "| `indicator=True` | (manual check) | Track merge source |\n",
    "\n",
    "**Tomorrow's SQL class will teach the same concepts with SQL syntax!**"
   ]
  },
  {
   "cell_type": "markdown",
   "metadata": {},
   "source": [
    "## Key Takeaways\n",
    "\n",
    "### Merge Types Quick Reference\n",
    "- **Inner**: Only matching rows from both DataFrames\n",
    "- **Left**: All from left + matching from right (NaN for no match)\n",
    "- **Right**: All from right + matching from left\n",
    "- **Outer**: All rows from both DataFrames\n",
    "\n",
    "### Best Practices\n",
    "1. **Check key columns before merging** (duplicates, NaN values)\n",
    "2. **Validate merge results** (row counts, NaN patterns)\n",
    "3. **Use left merge** when you need to preserve all primary records\n",
    "4. **Chain merges logically** (start with main DataFrame)\n",
    "5. **Use `indicator=True`** for debugging merge issues\n",
    "6. **Handle NaN values appropriately** after merging\n",
    "\n",
    "### Real-World Applications\n",
    "- **E-commerce**: Combining orders, products, and customers\n",
    "- **Marketing**: Joining campaign data with customer behavior\n",
    "- **Finance**: Merging transactions with account information\n",
    "- **Healthcare**: Connecting patient records across systems\n",
    "\n",
    "---\n",
    "\n",
    "**Next Session**: Thursday SQL class will cover JOINs - the same concepts you learned today but with SQL syntax and the same Olist database!"
   ]
  }
 ],
 "metadata": {
  "kernelspec": {
   "display_name": "Python 3",
   "language": "python",
   "name": "python3"
  },
  "language_info": {
   "codemirror_mode": {
    "name": "ipython",
    "version": 3
   },
   "file_extension": ".py",
   "mimetype": "text/x-python",
   "name": "python",
   "nbconvert_exporter": "python",
   "pygments_lexer": "ipython3",
   "version": "3.8.0"
  }
 },
 "nbformat": 4,
 "nbformat_minor": 4
}

{
 "cells": [
  {
   "cell_type": "markdown",
   "metadata": {},
   "source": [
    "# Week 6: Python Text Processing & Pattern Matching\n",
    "## Part 1: String Methods Fundamentals\n",
    "### Wednesday, September 17, 2025\n",
    "\n",
    "**Business Context**: Cleaning and standardizing e-commerce data for Nigerian marketplace analysis  \n",
    "**Excel Bridge**: Moving from TEXT, UPPER, LOWER, TRIM functions to Python string methods"
   ]
  },
  {
   "cell_type": "markdown",
   "metadata": {},
   "source": [
    "## Learning Objectives\n",
    "\n",
    "By the end of this notebook, you will be able to:\n",
    "1. Use basic Python string methods for data cleaning\n",
    "2. Apply pandas `.str` accessor for vectorized string operations\n",
    "3. Clean and standardize text data in business datasets\n",
    "4. Handle missing values during string operations\n",
    "5. Create standardized text formats for analysis"
   ]
  },
  {
   "cell_type": "markdown",
   "metadata": {},
   "source": [
    "## Setup and Data Import"
   ]
  },
  {
   "cell_type": "code",
   "execution_count": null,
   "metadata": {},
   "outputs": [],
   "source": [
    "# Import required libraries\n",
    "import pandas as pd\n",
    "import numpy as np\n",
    "import matplotlib.pyplot as plt\n",
    "import seaborn as sns\n",
    "\n",
    "# Set display options for better output\n",
    "pd.set_option('display.max_columns', None)\n",
    "pd.set_option('display.width', None)\n",
    "pd.set_option('display.max_colwidth', 50)\n",
    "\n",
    "print(\"✅ Libraries imported successfully!\")"
   ]
  },
  {
   "cell_type": "code",
   "execution_count": null,
   "metadata": {},
   "outputs": [],
   "source": [
    "# Load sample data (simulating Olist dataset structure)\n",
    "# In real scenario, this would be loaded from the datasets folder\n",
    "\n",
    "# Sample customer data with text cleaning challenges\n",
    "customers_data = {\n",
    "    'customer_id': ['CUST001', 'CUST002', 'CUST003', 'CUST004', 'CUST005', 'CUST006'],\n",
    "    'customer_city': ['  sao paulo  ', 'RIO DE JANEIRO', 'Belo Horizonte', ' brasilia', 'CURITIBA ', 'sao paulo'],\n",
    "    'customer_state': ['SP', 'rj', 'MG', 'df', 'PR', 'SP'],\n",
    "    'customer_zip': [1000, 2000, 3000, 7000, 8000, 1100]\n",
    "}\n",
    "\n",
    "customers_df = pd.DataFrame(customers_data)\n",
    "\n",
    "# Sample product categories with text standardization needs\n",
    "categories_data = {\n",
    "    'product_category_name': ['cama_mesa_banho', 'esporte_lazer', 'moveis_decoracao', 'beleza_saude', 'utilidades_domesticas'],\n",
    "    'product_category_name_english': ['bed_bath_table', 'sports_leisure', 'furniture_decor', 'health_beauty', 'housewares'],\n",
    "    'product_count': [3029, 2867, 2657, 2444, 2335]\n",
    "}\n",
    "\n",
    "categories_df = pd.DataFrame(categories_data)\n",
    "\n",
    "print(\"📊 Sample datasets created!\")\n",
    "print(f\"Customers dataset shape: {customers_df.shape}\")\n",
    "print(f\"Categories dataset shape: {categories_df.shape}\")"
   ]
  },
  {
   "cell_type": "markdown",
   "metadata": {},
   "source": [
    "## 1. Basic String Methods\n",
    "\n",
    "### Excel Connection: TEXT Functions\n",
    "- Excel `UPPER()` → Python `.upper()`\n",
    "- Excel `LOWER()` → Python `.lower()`\n",
    "- Excel `PROPER()` → Python `.title()`\n",
    "- Excel `TRIM()` → Python `.strip()`"
   ]
  },
  {
   "cell_type": "markdown",
   "metadata": {},
   "source": [
    "### 1.1 Case Standardization"
   ]
  },
  {
   "cell_type": "code",
   "execution_count": null,
   "metadata": {},
   "outputs": [],
   "source": [
    "# Display current customer data to see inconsistencies\n",
    "print(\"🔍 Current customer data with inconsistent casing:\")\n",
    "print(customers_df[['customer_city', 'customer_state']].head())\n",
    "print(\"\\n\" + \"=\"*50)\n",
    "\n",
    "# Demonstrate single string operations first\n",
    "sample_city = '  sao paulo  '\n",
    "print(f\"\\n📝 Single string operations on: '{sample_city}'\")\n",
    "print(f\"Original: '{sample_city}'\")\n",
    "print(f\"Upper: '{sample_city.upper()}'\")\n",
    "print(f\"Lower: '{sample_city.lower()}'\")\n",
    "print(f\"Title: '{sample_city.title()}'\")\n",
    "print(f\"Stripped: '{sample_city.strip()}'\")\n",
    "print(f\"Combined (strip + title): '{sample_city.strip().title()}'\")"
   ]
  },
  {
   "cell_type": "code",
   "execution_count": null,
   "metadata": {},
   "outputs": [],
   "source": [
    "# Apply string methods to pandas DataFrame columns using .str accessor\n",
    "print(\"🔧 Applying case standardization to entire columns:\")\n",
    "\n",
    "# Create a copy to show before/after comparison\n",
    "customers_clean = customers_df.copy()\n",
    "\n",
    "# Standardize city names to title case (proper case)\n",
    "customers_clean['city_cleaned'] = customers_clean['customer_city'].str.strip().str.title()\n",
    "\n",
    "# Standardize state names to uppercase\n",
    "customers_clean['state_cleaned'] = customers_clean['customer_state'].str.upper()\n",
    "\n",
    "# Display before and after\n",
    "comparison_df = customers_clean[['customer_city', 'city_cleaned', 'customer_state', 'state_cleaned']]\n",
    "print(comparison_df)"
   ]
  },
  {
   "cell_type": "markdown",
   "metadata": {},
   "source": [
    "### 1.2 Text Length Analysis\n",
    "**Excel Connection**: `LEN()` function → Python `len()` and `.str.len()`"
   ]
  },
  {
   "cell_type": "code",
   "execution_count": null,
   "metadata": {},
   "outputs": [],
   "source": [
    "# Analyze text lengths for quality assessment\n",
    "print(\"📏 Text length analysis:\")\n",
    "\n",
    "# Add length columns\n",
    "customers_clean['city_original_length'] = customers_clean['customer_city'].str.len()\n",
    "customers_clean['city_cleaned_length'] = customers_clean['city_cleaned'].str.len()\n",
    "\n",
    "# Show the comparison\n",
    "length_comparison = customers_clean[['customer_city', 'city_cleaned', 'city_original_length', 'city_cleaned_length']]\n",
    "print(length_comparison)\n",
    "\n",
    "print(\"\\n📊 Length statistics:\")\n",
    "print(f\"Average original length: {customers_clean['city_original_length'].mean():.1f}\")\n",
    "print(f\"Average cleaned length: {customers_clean['city_cleaned_length'].mean():.1f}\")\n",
    "print(f\"Characters saved by cleaning: {(customers_clean['city_original_length'] - customers_clean['city_cleaned_length']).sum()}\")"
   ]
  },
  {
   "cell_type": "markdown",
   "metadata": {},
   "source": [
    "## 2. String Modification Methods\n",
    "\n",
    "### Excel Connection: SUBSTITUTE and Text Manipulation\n",
    "- Excel `SUBSTITUTE()` → Python `.replace()`\n",
    "- Excel `MID()` → Python string slicing `[start:end]`\n",
    "- Excel `CONCATENATE()` → Python `.join()` and f-strings"
   ]
  },
  {
   "cell_type": "markdown",
   "metadata": {},
   "source": [
    "### 2.1 Text Replacement"
   ]
  },
  {
   "cell_type": "code",
   "execution_count": null,
   "metadata": {},
   "outputs": [],
   "source": [
    "# Work with product categories that need standardization\n",
    "print(\"🏷️ Product category standardization:\")\n",
    "print(\"Original categories:\")\n",
    "print(categories_df['product_category_name'].tolist())\n",
    "\n",
    "# Replace underscores with spaces for better readability\n",
    "categories_df['category_readable'] = categories_df['product_category_name'].str.replace('_', ' ')\n",
    "\n",
    "# Create business-friendly names\n",
    "categories_df['category_display'] = categories_df['category_readable'].str.title()\n",
    "\n",
    "print(\"\\n✨ After standardization:\")\n",
    "display_comparison = categories_df[['product_category_name', 'category_readable', 'category_display']]\n",
    "print(display_comparison)"
   ]
  },
  {
   "cell_type": "code",
   "execution_count": null,
   "metadata": {},
   "outputs": [],
   "source": [
    "# Multiple replacements and advanced cleaning\n",
    "print(\"🔧 Advanced text cleaning with multiple replacements:\")\n",
    "\n",
    "# Create some messy review data for demonstration\n",
    "messy_reviews = pd.Series([\n",
    "    'PRODUTO EXCELENTE!!!',\n",
    "    'muito  bom produto...',\n",
    "    'NÃO GOSTEI NADA!!!',\n",
    "    'produto   ok, mas   pode melhorar.',\n",
    "    'RECOMENDO!! produto TOP!!!'\n",
    "])\n",
    "\n",
    "print(\"Original reviews:\")\n",
    "for i, review in enumerate(messy_reviews):\n",
    "    print(f\"{i+1}. '{review}'\")\n",
    "\n",
    "# Clean the reviews\n",
    "cleaned_reviews = (\n",
    "    messy_reviews\n",
    "    .str.replace('!!', '!')  # Reduce multiple exclamation marks\n",
    "    .str.replace('...', '.')  # Reduce multiple periods\n",
    "    .str.replace('  ', ' ')  # Remove double spaces\n",
    "    .str.strip()  # Remove leading/trailing spaces\n",
    "    .str.title()  # Standardize case\n",
    ")\n",
    "\n",
    "print(\"\\n✨ Cleaned reviews:\")\n",
    "for i, review in enumerate(cleaned_reviews):\n",
    "    print(f\"{i+1}. '{review}'\")"
   ]
  },
  {
   "cell_type": "markdown",
   "metadata": {},
   "source": [
    "### 2.2 String Slicing and Extraction\n",
    "**Excel Connection**: `LEFT()`, `RIGHT()`, `MID()` functions"
   ]
  },
  {
   "cell_type": "code",
   "execution_count": null,
   "metadata": {},
   "outputs": [],
   "source": [
    "# Extract parts of strings for analysis\n",
    "print(\"✂️ String slicing and extraction:\")\n",
    "\n",
    "# Work with customer cities to extract regional information\n",
    "cities_sample = ['sao paulo', 'rio de janeiro', 'belo horizonte', 'porto alegre']\n",
    "cities_df = pd.DataFrame({'full_city_name': cities_sample})\n",
    "\n",
    "# Extract first word (often the main city name)\n",
    "cities_df['first_word'] = cities_df['full_city_name'].str.split(' ').str[0]\n",
    "\n",
    "# Extract first 3 characters (city code)\n",
    "cities_df['city_code'] = cities_df['full_city_name'].str[:3].str.upper()\n",
    "\n",
    "# Get city name length category\n",
    "cities_df['name_length'] = cities_df['full_city_name'].str.len()\n",
    "cities_df['length_category'] = cities_df['name_length'].apply(\n",
    "    lambda x: 'Short' if x <= 8 else 'Medium' if x <= 12 else 'Long'\n",
    ")\n",
    "\n",
    "print(cities_df)"
   ]
  },
  {
   "cell_type": "markdown",
   "metadata": {},
   "source": [
    "### 2.3 Text Concatenation and Formatting\n",
    "**Excel Connection**: `CONCATENATE()` and `&` operator"
   ]
  },
  {
   "cell_type": "code",
   "execution_count": null,
   "metadata": {},
   "outputs": [],
   "source": [
    "# Create standardized business formats\n",
    "print(\"🔗 Text concatenation and formatting:\")\n",
    "\n",
    "# Create standardized customer location format\n",
    "customers_clean['formatted_location'] = (\n",
    "    customers_clean['city_cleaned'] + ', ' + customers_clean['state_cleaned']\n",
    ")\n",
    "\n",
    "# Create shipping labels using f-strings (modern Python approach)\n",
    "customers_clean['shipping_label'] = customers_clean.apply(\n",
    "    lambda row: f\"{row['city_cleaned'].upper()} - {row['customer_zip']}\", axis=1\n",
    ")\n",
    "\n",
    "# Using .str.cat() method for concatenation\n",
    "customers_clean['location_with_zip'] = customers_clean['city_cleaned'].str.cat(\n",
    "    [customers_clean['state_cleaned'], customers_clean['customer_zip'].astype(str)], \n",
    "    sep=' | '\n",
    ")\n",
    "\n",
    "print(\"🏷️ Formatted location examples:\")\n",
    "location_formats = customers_clean[['customer_id', 'formatted_location', 'shipping_label', 'location_with_zip']].head(3)\n",
    "print(location_formats)"
   ]
  },
  {
   "cell_type": "markdown",
   "metadata": {},
   "source": [
    "## 3. Business Application: Nigerian E-commerce Adaptation"
   ]
  },
  {
   "cell_type": "code",
   "execution_count": null,
   "metadata": {},
   "outputs": [],
   "source": [
    "# Adapt Brazilian patterns for Nigerian market\n",
    "print(\"🇳🇬 Nigerian e-commerce adaptation:\")\n",
    "\n",
    "# Create Nigerian city data\n",
    "nigerian_cities = {\n",
    "    'raw_city_name': ['  LAGOS  ', 'abuja', 'Port Harcourt', 'KANO', ' ibadan ', 'Benin City'],\n",
    "    'raw_state': ['lagos', 'FCT', 'rivers', 'kano', 'oyo', 'edo'],\n",
    "    'customer_id': ['NG001', 'NG002', 'NG003', 'NG004', 'NG005', 'NG006']\n",
    "}\n",
    "\n",
    "nigerian_df = pd.DataFrame(nigerian_cities)\n",
    "\n",
    "# Standardize Nigerian city and state names\n",
    "nigerian_df['city_standardized'] = nigerian_df['raw_city_name'].str.strip().str.title()\n",
    "nigerian_df['state_standardized'] = nigerian_df['raw_state'].str.upper()\n",
    "\n",
    "# Create full Nigerian address format\n",
    "nigerian_df['full_address'] = (\n",
    "    nigerian_df['city_standardized'] + ' City, ' + nigerian_df['state_standardized'] + ' State, Nigeria'\n",
    ")\n",
    "\n",
    "print(\"✨ Standardized Nigerian locations:\")\n",
    "print(nigerian_df[['raw_city_name', 'city_standardized', 'state_standardized', 'full_address']])"
   ]
  },
  {
   "cell_type": "markdown",
   "metadata": {},
   "source": [
    "## 4. Data Quality Assessment with String Operations"
   ]
  },
  {
   "cell_type": "code",
   "execution_count": null,
   "metadata": {},
   "outputs": [],
   "source": [
    "# Assess data quality issues in text fields\n",
    "print(\"🔍 Data quality assessment:\")\n",
    "\n",
    "# Create a dataset with various quality issues\n",
    "quality_test_data = {\n",
    "    'customer_id': ['Q001', 'Q002', 'Q003', 'Q004', 'Q005', 'Q006'],\n",
    "    'city_name': ['São Paulo', '', '   ', 'UNKNOWN', 'N/A', 'Test City'],\n",
    "    'state_code': ['SP', 'XX', '', '??', 'RJ', 'MG']\n",
    "}\n",
    "\n",
    "quality_df = pd.DataFrame(quality_test_data)\n",
    "\n",
    "print(\"Original data with quality issues:\")\n",
    "print(quality_df)\n",
    "\n",
    "# Identify different types of quality issues\n",
    "quality_issues = {\n",
    "    'empty_strings': (quality_df['city_name'] == '').sum(),\n",
    "    'whitespace_only': (quality_df['city_name'].str.strip() == '').sum(),\n",
    "    'unknown_values': quality_df['city_name'].str.contains('UNKNOWN|N/A', case=False, na=False).sum(),\n",
    "    'suspicious_states': quality_df['state_code'].str.contains('XX|\\?\\?', na=False).sum(),\n",
    "    'missing_values': quality_df['city_name'].isna().sum()\n",
    "}\n",
    "\n",
    "print(\"\\n📊 Data quality summary:\")\n",
    "for issue, count in quality_issues.items():\n",
    "    print(f\"{issue.replace('_', ' ').title()}: {count}\")"
   ]
  },
  {
   "cell_type": "markdown",
   "metadata": {},
   "source": [
    "## 5. Practice Exercises"
   ]
  },
  {
   "cell_type": "markdown",
   "metadata": {},
   "source": [
    "### Exercise 1: Product Category Standardization\n",
    "**Task**: Clean and standardize product category names for Nigerian market"
   ]
  },
  {
   "cell_type": "code",
   "execution_count": null,
   "metadata": {},
   "outputs": [],
   "source": [
    "# Exercise 1: YOUR CODE HERE\n",
    "# Create a dataset with messy product categories\n",
    "messy_products = {\n",
    "    'product_id': ['P001', 'P002', 'P003', 'P004', 'P005'],\n",
    "    'category_raw': ['fashion_bags_and_accessories', 'ELECTRONICS_AND_COMPUTERS', '  home_and_garden  ', 'sports&leisure', 'health_beauty']\n",
    "}\n",
    "\n",
    "products_exercise = pd.DataFrame(messy_products)\n",
    "\n",
    "print(\"🎯 Exercise 1: Clean these product categories\")\n",
    "print(products_exercise)\n",
    "\n",
    "# TODO: \n",
    "# 1. Replace underscores and special characters with spaces\n",
    "# 2. Standardize case to title case\n",
    "# 3. Remove extra whitespace\n",
    "# 4. Create a display-friendly format\n",
    "\n",
    "# Your solution here:\n",
    "# products_exercise['category_clean'] = ...\n",
    "\n",
    "print(\"\\n💡 Hint: Use .str.replace(), .str.strip(), and .str.title()\")"
   ]
  },
  {
   "cell_type": "markdown",
   "metadata": {},
   "source": [
    "### Exercise 2: Customer Data Standardization\n",
    "**Task**: Create a standardized customer contact format"
   ]
  },
  {
   "cell_type": "code",
   "execution_count": null,
   "metadata": {},
   "outputs": [],
   "source": [
    "# Exercise 2: YOUR CODE HERE\n",
    "customer_contacts = {\n",
    "    'customer_id': ['C001', 'C002', 'C003'],\n",
    "    'first_name': ['  john  ', 'MARY', 'peter'],\n",
    "    'last_name': ['DOE', '  smith  ', 'JONES'],\n",
    "    'email': ['John.Doe@Email.Com', 'MARY.SMITH@GMAIL.COM', '  peter.jones@yahoo.com  ']\n",
    "}\n",
    "\n",
    "contacts_exercise = pd.DataFrame(customer_contacts)\n",
    "\n",
    "print(\"🎯 Exercise 2: Standardize customer contact information\")\n",
    "print(contacts_exercise)\n",
    "\n",
    "# TODO:\n",
    "# 1. Clean and standardize names (proper case)\n",
    "# 2. Create full name field\n",
    "# 3. Standardize email format (lowercase)\n",
    "# 4. Create a contact label format: \"Full Name <email>\"\n",
    "\n",
    "# Your solution here:\n",
    "\n",
    "print(\"\\n💡 Hint: Combine string methods and concatenation techniques\")"
   ]
  },
  {
   "cell_type": "markdown",
   "metadata": {},
   "source": [
    "## 6. Key Takeaways and Next Steps"
   ]
  },
  {
   "cell_type": "markdown",
   "metadata": {},
   "source": [
    "### 🎯 What We Learned Today\n",
    "\n",
    "1. **Basic String Methods**: `.upper()`, `.lower()`, `.title()`, `.strip()`\n",
    "2. **Pandas String Operations**: Using `.str` accessor for DataFrame columns\n",
    "3. **Text Modification**: `.replace()`, slicing, concatenation\n",
    "4. **Business Applications**: Standardizing real-world e-commerce data\n",
    "5. **Data Quality**: Identifying and handling text data issues\n",
    "\n",
    "### 🔄 Excel to Python Translation\n",
    "- `UPPER()` → `.str.upper()`\n",
    "- `LOWER()` → `.str.lower()`\n",
    "- `PROPER()` → `.str.title()`\n",
    "- `TRIM()` → `.str.strip()`\n",
    "- `SUBSTITUTE()` → `.str.replace()`\n",
    "- `CONCATENATE()` → `.str.cat()` or `+` operator\n",
    "\n",
    "### 📝 Best Practices\n",
    "1. Always use `.str` accessor for pandas Series string operations\n",
    "2. Chain string methods for complex cleaning operations\n",
    "3. Handle missing values before string operations\n",
    "4. Test string operations on small samples first\n",
    "5. Create reusable functions for common cleaning tasks\n",
    "\n",
    "### ⏭️ Coming Next\n",
    "**Part 2**: Pattern Matching with String Methods and Introduction to Regular Expressions"
   ]
  },
  {
   "cell_type": "code",
   "execution_count": null,
   "metadata": {},
   "outputs": [],
   "source": [
    "# Summary: Compare your solutions with expected outputs\n",
    "print(\"🎉 Great job completing Part 1: String Methods Fundamentals!\")\n",
    "print(\"\\n📚 You're now ready for Part 2: Pattern Matching\")\n",
    "print(\"\\n🔍 Next, we'll learn how to find patterns in text data using:\")\n",
    "print(\"   • String methods like .contains() and .startswith()\")\n",
    "print(\"   • Introduction to regular expressions\")\n",
    "print(\"   • Advanced pattern matching for business categorization\")"
   ]
  }
 ],
 "metadata": {
  "kernelspec": {
   "display_name": "Python 3",
   "language": "python",
   "name": "python3"
  },
  "language_info": {
   "codemirror_mode": {
    "name": "ipython",
    "version": 3
   },
   "file_extension": ".py",
   "name": "python",
   "nbconvert_exporter": "python",
   "pygments_lexer": "ipython3",
   "version": "3.8.5"
  }
 },
 "nbformat": 4,
 "nbformat_minor": 4
}